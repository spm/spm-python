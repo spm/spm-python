{
 "cells": [
  {
   "cell_type": "code",
   "execution_count": 1,
   "id": "5c3962a0",
   "metadata": {},
   "outputs": [],
   "source": [
    "from spm import *\n",
    "\n",
    "datapath = '../../tutorial/'"
   ]
  },
  {
   "cell_type": "markdown",
   "id": "3e1ac1d7",
   "metadata": {},
   "source": [
    "Matlab code:\n",
    "```Matlab\n",
    "S = [];\n",
    "S.data ='OPM_meg_001.cMEG';\n",
    "S.positions= 'OPM_HelmConfig.tsv';\n",
    "D = spm_opm_create(S);\n",
    "```"
   ]
  },
  {
   "cell_type": "code",
   "execution_count": 2,
   "id": "1fa4744a",
   "metadata": {},
   "outputs": [
    {
     "name": "stdout",
     "output_type": "stream",
     "text": [
      "Initializing Matlab Runtime...\n",
      "\n",
      "SPM12: spm_opm_create                              19:58:06 - 04/10/2024\n",
      "========================================================================\n",
      "Warning: Cerca magnetics data currently requires separate coregistration and forward modelling\n",
      "> In spm_opm_create (line 68)\n",
      "In mpython_endpoint (line 5)\n",
      "Data type is missing or incorrect, assigning default.\n",
      "Warning: amplitude, distance and scaling are not supported for version \"2011v2\"\n",
      "\n",
      "SPM12: spm_opm_headmodel                           19:58:12 - 04/10/2024\n",
      "========================================================================\n",
      "Warning: coordsystem not found\n",
      "Warning: No files for coregistration supplied, skipping\\n\n",
      "Completed                               :          19:58:12 - 04/10/2024\n"
     ]
    }
   ],
   "source": [
    "S = dict(\n",
    "    data=datapath + 'OPM_meg_001.cMEG', \n",
    "    positions=datapath + 'OPM_HelmConfig.tsv'\n",
    ")\n",
    "D = spm_opm_create(S)"
   ]
  },
  {
   "cell_type": "markdown",
   "id": "0bee1539",
   "metadata": {},
   "source": [
    "Matlab code: \n",
    "```Matlab \n",
    "S=[];\n",
    "S.triallength = 3000; \n",
    "S.plot=1;\n",
    "S.D=D;\n",
    "S.channels='MEG';\n",
    "spm_opm_psd(S);\n",
    "ylim([1,1e5])\n",
    "```"
   ]
  },
  {
   "cell_type": "code",
   "execution_count": 3,
   "id": "480f20db",
   "metadata": {},
   "outputs": [
    {
     "name": "stderr",
     "output_type": "stream",
     "text": [
      "Xlib: sequence lost (0x10000 > 0x311) in reply type 0x2!\n"
     ]
    }
   ],
   "source": [
    "S = dict(\n",
    "    triallength = 3000, \n",
    "    plot = 1,\n",
    "    D = D,\n",
    "    channels = 'MEG',\n",
    ")\n",
    "spm_opm_psd(S, nargout=0)"
   ]
  },
  {
   "cell_type": "markdown",
   "id": "94037c5a",
   "metadata": {},
   "source": [
    "Matlab code: \n",
    "```Matlab\n",
    "S=[];\n",
    "S.D=D;\n",
    "S.freq=[10];\n",
    "S.band = 'high';\n",
    "fD = spm_eeg_ffilter(S);\n",
    "\n",
    "S = [];\n",
    "S.D = fD;\n",
    "S.freq = [70];\n",
    "S.band = 'low';\n",
    "fD = spm_eeg_ffilter(S);\n",
    "```"
   ]
  },
  {
   "cell_type": "code",
   "execution_count": 4,
   "id": "5bc827f9",
   "metadata": {},
   "outputs": [
    {
     "name": "stdout",
     "output_type": "stream",
     "text": [
      "Filter high (butterworth, twopass)      :                        [10] Hz\n",
      "Filtering Channels (Forward)            :          19:58:52 - 04/10/2024\n",
      "Filtering Channels (backward)           :          19:58:54 - 04/10/2024\n",
      "Completed                               :          19:58:55 - 04/10/2024\n",
      "Filter low (butterworth, twopass)       :                        [70] Hz\n",
      "Filtering Channels (Forward)            :          19:58:55 - 04/10/2024\n",
      "Filtering Channels (backward)           :          19:58:56 - 04/10/2024\n",
      "Completed                               :          19:58:57 - 04/10/2024\n"
     ]
    }
   ],
   "source": [
    "S = dict(\n",
    "    D = D,\n",
    "    freq = 10,\n",
    "    band = 'high'\n",
    ")\n",
    "fD = spm_eeg_ffilter(S)\n",
    "\n",
    "S = dict(\n",
    "    D = fD,\n",
    "    freq = 70,\n",
    "    band = 'low'\n",
    ")\n",
    "fD = spm_eeg_ffilter(S)"
   ]
  },
  {
   "cell_type": "markdown",
   "id": "ea631cdb",
   "metadata": {},
   "source": [
    "Matlab code:\n",
    "```Matlab\n",
    "S = [];\n",
    "S.D = fD;\n",
    "S.L = 1;\n",
    "[hfD] = spm_opm_hfc(S);\n",
    "```"
   ]
  },
  {
   "cell_type": "code",
   "execution_count": 5,
   "id": "0d07a25f",
   "metadata": {},
   "outputs": [
    {
     "name": "stdout",
     "output_type": "stream",
     "text": [
      "Created Design Matrix                   :          19:58:59 - 04/10/2024\n",
      "Creating output dataset\n",
      "Processing Data                         :          19:58:59 - 04/10/2024\n",
      "Updating Sensor Information             :          19:59:01 - 04/10/2024\n",
      "Checking for unusual channels\n",
      "Completed                               :          19:59:01 - 04/10/2024\n"
     ]
    }
   ],
   "source": [
    "S = dict(\n",
    "    D = fD._as_matlab_object(),\n",
    "    L = 1\n",
    ")\n",
    "hfD = spm_opm_hfc(S)"
   ]
  },
  {
   "cell_type": "markdown",
   "id": "93691339",
   "metadata": {},
   "source": [
    "Matlab code:\n",
    "```Matlab\n",
    "S = [];\n",
    "S.D = fD;\n",
    "mD = spm_opm_amm(S);\n",
    "```"
   ]
  },
  {
   "cell_type": "code",
   "execution_count": 6,
   "id": "3b4528f7",
   "metadata": {},
   "outputs": [
    {
     "name": "stdout",
     "output_type": "stream",
     "text": [
      "Created Design Matrix                   :          19:59:02 - 04/10/2024\n",
      "Creating output dataset\n",
      "Completed                               :          19:59:02 - 04/10/2024\n"
     ]
    }
   ],
   "source": [
    "S = dict(D  = fD._as_matlab_object())\n",
    "mD = spm_opm_amm(S)"
   ]
  },
  {
   "cell_type": "markdown",
   "id": "ed47ed79",
   "metadata": {},
   "source": [
    "Matlab code:\n",
    "```Matlab\n",
    "S=[];\n",
    "S.triallength = 3000; \n",
    "S.plot=1;\n",
    "S.D=mD;\n",
    "[~,freq]=spm_opm_psd(S);\n",
    "```"
   ]
  },
  {
   "cell_type": "code",
   "execution_count": 7,
   "id": "b4fa2dfa",
   "metadata": {},
   "outputs": [
    {
     "name": "stderr",
     "output_type": "stream",
     "text": [
      "Xlib: sequence lost (0x10000 > 0x547) in reply type 0x2!\n"
     ]
    }
   ],
   "source": [
    "S = dict(\n",
    "    triallength = 3000, \n",
    "    plot=1,\n",
    "    D=mD._as_matlab_object(),\n",
    ")\n",
    "[_,freq] = spm_opm_psd(S, nargout=2);"
   ]
  }
 ],
 "metadata": {
  "kernelspec": {
   "display_name": "Python 3 (ipykernel)",
   "language": "python",
   "name": "python3"
  },
  "language_info": {
   "codemirror_mode": {
    "name": "ipython",
    "version": 3
   },
   "file_extension": ".py",
   "mimetype": "text/x-python",
   "name": "python",
   "nbconvert_exporter": "python",
   "pygments_lexer": "ipython3",
   "version": "3.9.12"
  }
 },
 "nbformat": 4,
 "nbformat_minor": 5
}
