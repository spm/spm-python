{
 "cells": [
  {
   "cell_type": "code",
   "execution_count": 1,
   "id": "5c3962a0",
   "metadata": {},
   "outputs": [],
   "source": [
    "from spm import *\n",
    "\n",
    "datapath = '../../tutorial/'"
   ]
  },
  {
   "cell_type": "markdown",
   "id": "3e1ac1d7",
   "metadata": {},
   "source": [
    "Matlab code:\n",
    "```Matlab\n",
    "S = [];\n",
    "S.data ='OPM_meg_001.cMEG';\n",
    "S.positions= 'OPM_HelmConfig.tsv';\n",
    "D = spm_opm_create(S);\n",
    "```"
   ]
  },
  {
   "cell_type": "code",
   "execution_count": 2,
   "id": "1fa4744a",
   "metadata": {},
   "outputs": [
    {
     "name": "stdout",
     "output_type": "stream",
     "text": [
      "Initializing Matlab Runtime...\n",
      "\n",
      "SPM12: spm_opm_create                              17:22:49 - 07/10/2024\n",
      "========================================================================\n"
     ]
    },
    {
     "name": "stderr",
     "output_type": "stream",
     "text": [
      "Error using spm_opm_create (line 105)\n",
      "A valid dataset or file was not supplied\n",
      "\n",
      "Error in mpython_endpoint (line 5)\n",
      "\n"
     ]
    },
    {
     "ename": "MatlabRuntimeError",
     "evalue": "An error occurred when evaluating the result from a function. Details: \n  File /home/jmedrano/.mcrCache24.1/_spm_70/_spm/spm/toolbox/MEEGtools/spm_opm_create.m, line 105, in spm_opm_create\n\n  File /home/jmedrano/.mcrCache24.1/_spm_70/_spm/mpython/mpython_endpoint.m, line 5, in mpython_endpoint\nA valid dataset or file was not supplied\n",
     "output_type": "error",
     "traceback": [
      "\u001b[0;31m---------------------------------------------------------------------------\u001b[0m",
      "\u001b[0;31mMatlabRuntimeError\u001b[0m                        Traceback (most recent call last)",
      "Input \u001b[0;32mIn [2]\u001b[0m, in \u001b[0;36m<cell line: 4>\u001b[0;34m()\u001b[0m\n\u001b[1;32m      2\u001b[0m S\u001b[38;5;241m.\u001b[39mdata\u001b[38;5;241m=\u001b[39mdatapath \u001b[38;5;241m+\u001b[39m \u001b[38;5;124m'\u001b[39m\u001b[38;5;124mOPM_meg_001.cMEG\u001b[39m\u001b[38;5;124m'\u001b[39m, \n\u001b[1;32m      3\u001b[0m S\u001b[38;5;241m.\u001b[39mpositions\u001b[38;5;241m=\u001b[39mdatapath \u001b[38;5;241m+\u001b[39m \u001b[38;5;124m'\u001b[39m\u001b[38;5;124mOPM_HelmConfig.tsv\u001b[39m\u001b[38;5;124m'\u001b[39m\n\u001b[0;32m----> 4\u001b[0m D \u001b[38;5;241m=\u001b[39m \u001b[43mspm_opm_create\u001b[49m\u001b[43m(\u001b[49m\u001b[43mS\u001b[49m\u001b[43m)\u001b[49m\n",
      "File \u001b[0;32m~/prog/matlab/dev/spm-python/spm/__toolbox/__MEEGtools/spm_opm_create.py:37\u001b[0m, in \u001b[0;36mspm_opm_create\u001b[0;34m(*args, **kwargs)\u001b[0m\n\u001b[1;32m      4\u001b[0m \u001b[38;5;28;01mdef\u001b[39;00m \u001b[38;5;21mspm_opm_create\u001b[39m(\u001b[38;5;241m*\u001b[39margs, \u001b[38;5;241m*\u001b[39m\u001b[38;5;241m*\u001b[39mkwargs):\n\u001b[1;32m      5\u001b[0m \u001b[38;5;250m  \u001b[39m\u001b[38;5;124;03m\"\"\"  Read magnetometer data and optionally set up forward model  \u001b[39;00m\n\u001b[1;32m      6\u001b[0m \u001b[38;5;124;03m    FORMAT [D,L] = spm_opm_create(S)  \u001b[39;00m\n\u001b[1;32m      7\u001b[0m \u001b[38;5;124;03m      S               - input structure  \u001b[39;00m\n\u001b[0;32m   (...)\u001b[0m\n\u001b[1;32m     34\u001b[0m \u001b[38;5;124;03m  [Link to the Matlab implementation.](https://github.com/spm/spm/blob/main/toolbox/MEEGtools/spm_opm_create.m)\u001b[39;00m\n\u001b[1;32m     35\u001b[0m \u001b[38;5;124;03m  \"\"\"\u001b[39;00m\n\u001b[0;32m---> 37\u001b[0m   \u001b[38;5;28;01mreturn\u001b[39;00m \u001b[43mRuntime\u001b[49m\u001b[38;5;241;43m.\u001b[39;49m\u001b[43mcall\u001b[49m\u001b[43m(\u001b[49m\u001b[38;5;124;43m\"\u001b[39;49m\u001b[38;5;124;43mspm_opm_create\u001b[39;49m\u001b[38;5;124;43m\"\u001b[39;49m\u001b[43m,\u001b[49m\u001b[43m \u001b[49m\u001b[38;5;241;43m*\u001b[39;49m\u001b[43margs\u001b[49m\u001b[43m,\u001b[49m\u001b[43m \u001b[49m\u001b[38;5;241;43m*\u001b[39;49m\u001b[38;5;241;43m*\u001b[39;49m\u001b[43mkwargs\u001b[49m\u001b[43m)\u001b[49m\n",
      "File \u001b[0;32m~/prog/matlab/dev/spm-python/spm/__wrapper__.py:39\u001b[0m, in \u001b[0;36mRuntime.call\u001b[0;34m(fn, *args, **kwargs)\u001b[0m\n\u001b[1;32m     36\u001b[0m \u001b[38;5;129m@staticmethod\u001b[39m\n\u001b[1;32m     37\u001b[0m \u001b[38;5;28;01mdef\u001b[39;00m \u001b[38;5;21mcall\u001b[39m(fn, \u001b[38;5;241m*\u001b[39margs, \u001b[38;5;241m*\u001b[39m\u001b[38;5;241m*\u001b[39mkwargs): \n\u001b[1;32m     38\u001b[0m \t[args, kwargs] \u001b[38;5;241m=\u001b[39m Runtime\u001b[38;5;241m.\u001b[39m_process_argin(\u001b[38;5;241m*\u001b[39margs, \u001b[38;5;241m*\u001b[39m\u001b[38;5;241m*\u001b[39mkwargs) \n\u001b[0;32m---> 39\u001b[0m \tres \u001b[38;5;241m=\u001b[39m \u001b[43mRuntime\u001b[49m\u001b[38;5;241;43m.\u001b[39;49m\u001b[43minstance\u001b[49m\u001b[43m(\u001b[49m\u001b[43m)\u001b[49m\u001b[38;5;241;43m.\u001b[39;49m\u001b[43mmpython_endpoint\u001b[49m\u001b[43m(\u001b[49m\u001b[43mfn\u001b[49m\u001b[43m,\u001b[49m\u001b[43m \u001b[49m\u001b[38;5;241;43m*\u001b[39;49m\u001b[43margs\u001b[49m\u001b[43m,\u001b[49m\u001b[43m \u001b[49m\u001b[38;5;241;43m*\u001b[39;49m\u001b[38;5;241;43m*\u001b[39;49m\u001b[43mkwargs\u001b[49m\u001b[43m)\u001b[49m\n\u001b[1;32m     40\u001b[0m \t\u001b[38;5;28;01mreturn\u001b[39;00m Runtime\u001b[38;5;241m.\u001b[39m_process_argout(res)\n",
      "File \u001b[0;32m/usr/local/MATLAB/R2024a/toolbox/compiler_sdk/pysdk_py/matlab_pysdk/runtime/deployablefunc.py:78\u001b[0m, in \u001b[0;36mDeployableFunc.__call__\u001b[0;34m(self, *args, **kwargs)\u001b[0m\n\u001b[1;32m     75\u001b[0m     ret \u001b[38;5;241m=\u001b[39m futureresult\u001b[38;5;241m.\u001b[39mFutureResult(\u001b[38;5;28mself\u001b[39m\u001b[38;5;241m.\u001b[39m_cppext_handle, future_tuple, nlhs, \n\u001b[1;32m     76\u001b[0m         nlhsWasSpecified, stdoutObj, stderrObj)\n\u001b[1;32m     77\u001b[0m \u001b[38;5;28;01melse\u001b[39;00m:\n\u001b[0;32m---> 78\u001b[0m     ret \u001b[38;5;241m=\u001b[39m \u001b[43mfutureresult\u001b[49m\u001b[38;5;241;43m.\u001b[39;49m\u001b[43mFutureResult\u001b[49m\u001b[43m(\u001b[49m\u001b[38;5;28;43mself\u001b[39;49m\u001b[38;5;241;43m.\u001b[39;49m\u001b[43m_cppext_handle\u001b[49m\u001b[43m,\u001b[49m\u001b[43m \u001b[49m\u001b[43mfuture_tuple\u001b[49m\u001b[43m,\u001b[49m\u001b[43m \u001b[49m\u001b[43mnlhs\u001b[49m\u001b[43m,\u001b[49m\u001b[43m \u001b[49m\n\u001b[1;32m     79\u001b[0m \u001b[43m        \u001b[49m\u001b[43mnlhsWasSpecified\u001b[49m\u001b[43m,\u001b[49m\u001b[43m \u001b[49m\u001b[43mstdoutObj\u001b[49m\u001b[43m,\u001b[49m\u001b[43m \u001b[49m\u001b[43mstderrObj\u001b[49m\u001b[43m)\u001b[49m\u001b[38;5;241;43m.\u001b[39;49m\u001b[43mresult\u001b[49m\u001b[43m(\u001b[49m\u001b[43m)\u001b[49m\n\u001b[1;32m     81\u001b[0m \u001b[38;5;28;01mreturn\u001b[39;00m ret\n",
      "File \u001b[0;32m/usr/local/MATLAB/R2024a/toolbox/compiler_sdk/pysdk_py/matlab_pysdk/runtime/futureresult.py:134\u001b[0m, in \u001b[0;36mFutureResult.result\u001b[0;34m(self, timeout)\u001b[0m\n\u001b[1;32m    132\u001b[0m \u001b[38;5;66;03m# This clause makes the code easier to debug in the case of an exception.\u001b[39;00m\n\u001b[1;32m    133\u001b[0m \u001b[38;5;28;01mexcept\u001b[39;00m \u001b[38;5;167;01mException\u001b[39;00m \u001b[38;5;28;01mas\u001b[39;00m e:\n\u001b[0;32m--> 134\u001b[0m     \u001b[38;5;28;01mraise\u001b[39;00m e\n",
      "File \u001b[0;32m/usr/local/MATLAB/R2024a/toolbox/compiler_sdk/pysdk_py/matlab_pysdk/runtime/futureresult.py:122\u001b[0m, in \u001b[0;36mFutureResult.result\u001b[0;34m(self, timeout)\u001b[0m\n\u001b[1;32m    120\u001b[0m \u001b[38;5;66;03m# This clause makes the code easier to debug in the case of an exception.\u001b[39;00m\n\u001b[1;32m    121\u001b[0m \u001b[38;5;28;01mexcept\u001b[39;00m \u001b[38;5;167;01mException\u001b[39;00m \u001b[38;5;28;01mas\u001b[39;00m e:\n\u001b[0;32m--> 122\u001b[0m     \u001b[38;5;28;01mraise\u001b[39;00m e\n\u001b[1;32m    124\u001b[0m \u001b[38;5;28mself\u001b[39m\u001b[38;5;241m.\u001b[39m_retrieved \u001b[38;5;241m=\u001b[39m \u001b[38;5;28;01mTrue\u001b[39;00m\n\u001b[1;32m    125\u001b[0m \u001b[38;5;28;01mreturn\u001b[39;00m \u001b[38;5;28mself\u001b[39m\u001b[38;5;241m.\u001b[39m_result\n",
      "File \u001b[0;32m/usr/local/MATLAB/R2024a/toolbox/compiler_sdk/pysdk_py/matlab_pysdk/runtime/futureresult.py:111\u001b[0m, in \u001b[0;36mFutureResult.result\u001b[0;34m(self, timeout)\u001b[0m\n\u001b[1;32m    108\u001b[0m         \u001b[38;5;28mself\u001b[39m\u001b[38;5;241m.\u001b[39m_errh\u001b[38;5;241m.\u001b[39mraiseRuntimeError(\u001b[38;5;124m'\u001b[39m\u001b[38;5;124mTimeoutException\u001b[39m\u001b[38;5;124m'\u001b[39m)\n\u001b[1;32m    110\u001b[0m \u001b[38;5;28;01mtry\u001b[39;00m:\n\u001b[0;32m--> 111\u001b[0m     \u001b[38;5;28mself\u001b[39m\u001b[38;5;241m.\u001b[39m_result \u001b[38;5;241m=\u001b[39m \u001b[38;5;28;43mself\u001b[39;49m\u001b[38;5;241;43m.\u001b[39;49m\u001b[43m_cppext_handle\u001b[49m\u001b[38;5;241;43m.\u001b[39;49m\u001b[43mgetFEvalResult\u001b[49m\u001b[43m(\u001b[49m\u001b[38;5;28;43mself\u001b[39;49m\u001b[38;5;241;43m.\u001b[39;49m\u001b[43m_future_tuple\u001b[49m\u001b[43m,\u001b[49m\u001b[43m \u001b[49m\n\u001b[1;32m    112\u001b[0m \u001b[43m                                                  \u001b[49m\u001b[38;5;28;43mself\u001b[39;49m\u001b[38;5;241;43m.\u001b[39;49m\u001b[43m_nlhs\u001b[49m\u001b[43m,\u001b[49m\u001b[43m \u001b[49m\u001b[43mout\u001b[49m\u001b[38;5;241;43m=\u001b[39;49m\u001b[38;5;28;43mself\u001b[39;49m\u001b[38;5;241;43m.\u001b[39;49m\u001b[43m_out\u001b[49m\u001b[43m,\u001b[49m\u001b[43m \u001b[49m\u001b[43merr\u001b[49m\u001b[38;5;241;43m=\u001b[39;49m\u001b[38;5;28;43mself\u001b[39;49m\u001b[38;5;241;43m.\u001b[39;49m\u001b[43m_err\u001b[49m\u001b[43m)\u001b[49m\n\u001b[1;32m    113\u001b[0m \u001b[38;5;28;01mexcept\u001b[39;00m NumberOfOutputArgumentsError \u001b[38;5;28;01mas\u001b[39;00m e:\n\u001b[1;32m    114\u001b[0m     \u001b[38;5;28;01mif\u001b[39;00m \u001b[38;5;28mself\u001b[39m\u001b[38;5;241m.\u001b[39m_nlhsWasSpecified:\n",
      "\u001b[0;31mMatlabRuntimeError\u001b[0m: An error occurred when evaluating the result from a function. Details: \n  File /home/jmedrano/.mcrCache24.1/_spm_70/_spm/spm/toolbox/MEEGtools/spm_opm_create.m, line 105, in spm_opm_create\n\n  File /home/jmedrano/.mcrCache24.1/_spm_70/_spm/mpython/mpython_endpoint.m, line 5, in mpython_endpoint\nA valid dataset or file was not supplied\n"
     ]
    }
   ],
   "source": [
    "S = Struct()\n",
    "S.data = datapath + 'OPM_meg_001.cMEG', \n",
    "S.positions = datapath + 'OPM_HelmConfig.tsv'\n",
    "D = spm_opm_create(S)"
   ]
  },
  {
   "cell_type": "markdown",
   "id": "0bee1539",
   "metadata": {},
   "source": [
    "Matlab code: \n",
    "```Matlab \n",
    "S=[];\n",
    "S.triallength = 3000; \n",
    "S.plot=1;\n",
    "S.D=D;\n",
    "S.channels='MEG';\n",
    "spm_opm_psd(S);\n",
    "ylim([1,1e5])\n",
    "```"
   ]
  },
  {
   "cell_type": "code",
   "execution_count": 8,
   "id": "480f20db",
   "metadata": {},
   "outputs": [],
   "source": [
    "S = dict(\n",
    "    triallength = 3000, \n",
    "    plot = 1,\n",
    "    D = D,\n",
    "    channels = 'MEG',\n",
    ")\n",
    "spm_opm_psd(S)"
   ]
  },
  {
   "cell_type": "markdown",
   "id": "94037c5a",
   "metadata": {},
   "source": [
    "Matlab code: \n",
    "```Matlab\n",
    "S=[];\n",
    "S.D=D;\n",
    "S.freq=[10];\n",
    "S.band = 'high';\n",
    "fD = spm_eeg_ffilter(S);\n",
    "\n",
    "S = [];\n",
    "S.D = fD;\n",
    "S.freq = [70];\n",
    "S.band = 'low';\n",
    "fD = spm_eeg_ffilter(S);\n",
    "```"
   ]
  },
  {
   "cell_type": "code",
   "execution_count": 4,
   "id": "5bc827f9",
   "metadata": {},
   "outputs": [
    {
     "name": "stdout",
     "output_type": "stream",
     "text": [
      "Filter high (butterworth, twopass)      :                        [10] Hz\n",
      "Filtering Channels (Forward)            :          20:28:52 - 04/10/2024\n",
      "Filtering Channels (backward)           :          20:28:53 - 04/10/2024\n",
      "Completed                               :          20:28:55 - 04/10/2024\n",
      "Filter low (butterworth, twopass)       :                        [70] Hz\n",
      "Filtering Channels (Forward)            :          20:28:55 - 04/10/2024\n",
      "Filtering Channels (backward)           :          20:28:56 - 04/10/2024\n",
      "Completed                               :          20:28:57 - 04/10/2024\n"
     ]
    }
   ],
   "source": [
    "S = dict(\n",
    "    D = D,\n",
    "    freq = 10,\n",
    "    band = 'high'\n",
    ")\n",
    "fD = spm_eeg_ffilter(S)\n",
    "\n",
    "S = dict(\n",
    "    D = fD,\n",
    "    freq = 70,\n",
    "    band = 'low'\n",
    ")\n",
    "fD = spm_eeg_ffilter(S)"
   ]
  },
  {
   "cell_type": "markdown",
   "id": "ea631cdb",
   "metadata": {},
   "source": [
    "Matlab code:\n",
    "```Matlab\n",
    "S = [];\n",
    "S.D = fD;\n",
    "S.L = 1;\n",
    "[hfD] = spm_opm_hfc(S);\n",
    "```"
   ]
  },
  {
   "cell_type": "code",
   "execution_count": 5,
   "id": "0d07a25f",
   "metadata": {},
   "outputs": [
    {
     "name": "stdout",
     "output_type": "stream",
     "text": [
      "Created Design Matrix                   :          20:28:58 - 04/10/2024\n",
      "Creating output dataset\n",
      "Processing Data                         :          20:28:58 - 04/10/2024\n",
      "Updating Sensor Information             :          20:28:59 - 04/10/2024\n",
      "Checking for unusual channels\n",
      "Completed                               :          20:29:00 - 04/10/2024\n"
     ]
    }
   ],
   "source": [
    "S = dict(\n",
    "    D = fD,\n",
    "    L = 1\n",
    ")\n",
    "hfD = spm_opm_hfc(S)"
   ]
  },
  {
   "cell_type": "markdown",
   "id": "93691339",
   "metadata": {},
   "source": [
    "Matlab code:\n",
    "```Matlab\n",
    "S = [];\n",
    "S.D = fD;\n",
    "mD = spm_opm_amm(S);\n",
    "```"
   ]
  },
  {
   "cell_type": "code",
   "execution_count": 6,
   "id": "3b4528f7",
   "metadata": {},
   "outputs": [
    {
     "name": "stdout",
     "output_type": "stream",
     "text": [
      "Created Design Matrix                   :          20:29:00 - 04/10/2024\n",
      "Creating output dataset\n",
      "Completed                               :          20:29:01 - 04/10/2024\n"
     ]
    }
   ],
   "source": [
    "S = dict(D  = fD)\n",
    "mD = spm_opm_amm(S)"
   ]
  },
  {
   "cell_type": "markdown",
   "id": "ed47ed79",
   "metadata": {},
   "source": [
    "Matlab code:\n",
    "```Matlab\n",
    "S=[];\n",
    "S.triallength = 3000; \n",
    "S.plot=1;\n",
    "S.D=mD;\n",
    "[~,freq]=spm_opm_psd(S);\n",
    "```"
   ]
  },
  {
   "cell_type": "code",
   "execution_count": 7,
   "id": "b4fa2dfa",
   "metadata": {},
   "outputs": [
    {
     "name": "stderr",
     "output_type": "stream",
     "text": [
      "Xlib: sequence lost (0x10000 > 0x577) in reply type 0x3!\n",
      "Xlib: sequence lost (0x10000 > 0x57e) in reply type 0x2!\n",
      "Xlib: sequence lost (0x10000 > 0x596) in reply type 0x3!\n",
      "Xlib: sequence lost (0x10000 > 0x59b) in reply type 0x2!\n"
     ]
    }
   ],
   "source": [
    "S = dict(\n",
    "    triallength = 3000, \n",
    "    plot=1,\n",
    "    D=mD,\n",
    ")\n",
    "[_,freq] = spm_opm_psd(S, nargout=2);"
   ]
  }
 ],
 "metadata": {
  "kernelspec": {
   "display_name": "Python 3 (ipykernel)",
   "language": "python",
   "name": "python3"
  },
  "language_info": {
   "codemirror_mode": {
    "name": "ipython",
    "version": 3
   },
   "file_extension": ".py",
   "mimetype": "text/x-python",
   "name": "python",
   "nbconvert_exporter": "python",
   "pygments_lexer": "ipython3",
   "version": "3.9.12"
  }
 },
 "nbformat": 4,
 "nbformat_minor": 5
}
