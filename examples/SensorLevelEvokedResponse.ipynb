{
 "cells": [
  {
   "cell_type": "markdown",
   "id": "154d6287-de84-47cf-9315-ccf96458a363",
   "metadata": {},
   "source": [
    "[Download the tutorial data](https://www.fil.ion.ucl.ac.uk/spm/data/opm/opm-tutorial.zip) and unzip it, it should sit under \"spm-python/examples/tutorials/data\"."
   ]
  },
  {
   "cell_type": "code",
   "execution_count": 3,
   "id": "05fabab1-1da5-4994-931d-8691f87fc5b7",
   "metadata": {},
   "outputs": [],
   "source": [
    "import os.path as op\n",
    "datapath = op.join('data', 'tutorial')"
   ]
  },
  {
   "cell_type": "markdown",
   "id": "3e1ac1d7",
   "metadata": {},
   "source": [
    "Matlab code:\n",
    "```Matlab\n",
    "S = [];\n",
    "S.data ='OPM_meg_001.cMEG';\n",
    "S.positions= 'OPM_HelmConfig.tsv';\n",
    "D = spm_opm_create(S);\n",
    "```"
   ]
  },
  {
   "cell_type": "code",
   "execution_count": 4,
   "id": "1fa4744a",
   "metadata": {},
   "outputs": [
    {
     "name": "stdout",
     "output_type": "stream",
     "text": [
      "Initializing Matlab Runtime...\n"
     ]
    }
   ],
   "source": [
    "from spm import *\n",
    "\n",
    "S = Struct()\n",
    "S.data = op.join(datapath, 'OPM_meg_001.cMEG')\n",
    "S.positions = op.join(datapath, 'OPM_HelmConfig.tsv')\n",
    "D = spm_opm_create(S)"
   ]
  },
  {
   "cell_type": "markdown",
   "id": "0bee1539",
   "metadata": {},
   "source": [
    "Matlab code: \n",
    "```Matlab \n",
    "S=[];\n",
    "S.triallength = 3000; \n",
    "S.plot=1;\n",
    "S.D=D;\n",
    "S.channels='MEG';\n",
    "spm_opm_psd(S);\n",
    "ylim([1,1e5])\n",
    "```"
   ]
  },
  {
   "cell_type": "code",
   "execution_count": 5,
   "id": "b9a77279-7683-44f8-8d4d-f5d4a9ed993f",
   "metadata": {},
   "outputs": [],
   "source": [
    "from spm.__wrapper__ import Runtime"
   ]
  },
  {
   "cell_type": "code",
   "execution_count": 6,
   "id": "4a86cc75-f813-4c2c-97d1-1f84dae1e130",
   "metadata": {},
   "outputs": [
    {
     "data": {
      "text/plain": [
       "(({'data': 'data\\\\tutorial\\\\OPM_meg_001.cMEG',\n",
       "   'positions': 'data\\\\tutorial\\\\OPM_HelmConfig.tsv'},),\n",
       " {})"
      ]
     },
     "execution_count": 6,
     "metadata": {},
     "output_type": "execute_result"
    }
   ],
   "source": [
    "Runtime._process_argin(S)"
   ]
  },
  {
   "cell_type": "code",
   "execution_count": 7,
   "id": "480f20db",
   "metadata": {},
   "outputs": [],
   "source": [
    "S = Struct()\n",
    "S.triallength = 3000\n",
    "S.plot = 1\n",
    "S.D = D\n",
    "S.channels = 'MEG'\n",
    "spm_opm_psd(S);"
   ]
  },
  {
   "cell_type": "markdown",
   "id": "94037c5a",
   "metadata": {},
   "source": [
    "Matlab code: \n",
    "```Matlab\n",
    "S=[];\n",
    "S.D=D;\n",
    "S.freq=[10];\n",
    "S.band = 'high';\n",
    "fD = spm_eeg_ffilter(S);\n",
    "\n",
    "S = [];\n",
    "S.D = fD;\n",
    "S.freq = [70];\n",
    "S.band = 'low';\n",
    "fD = spm_eeg_ffilter(S);\n",
    "```"
   ]
  },
  {
   "cell_type": "code",
   "execution_count": 8,
   "id": "5bc827f9",
   "metadata": {},
   "outputs": [],
   "source": [
    "S = Struct()\n",
    "S.D = D\n",
    "S.freq = 10\n",
    "S.band = 'high'\n",
    "fD = spm_eeg_ffilter(S)\n",
    "\n",
    "S = Struct()\n",
    "S.D = fD\n",
    "S.freq = 70\n",
    "S.band = 'low'\n",
    "fD = spm_eeg_ffilter(S)"
   ]
  },
  {
   "cell_type": "markdown",
   "id": "ea631cdb",
   "metadata": {},
   "source": [
    "Matlab code:\n",
    "```Matlab\n",
    "S = [];\n",
    "S.D = fD;\n",
    "S.L = 1;\n",
    "[hfD] = spm_opm_hfc(S);\n",
    "```"
   ]
  },
  {
   "cell_type": "code",
   "execution_count": 9,
   "id": "0d07a25f",
   "metadata": {},
   "outputs": [],
   "source": [
    "S = Struct()\n",
    "S.D = fD\n",
    "S.L = 1\n",
    "hfD = spm_opm_hfc(S)"
   ]
  },
  {
   "cell_type": "markdown",
   "id": "93691339",
   "metadata": {},
   "source": [
    "Matlab code:\n",
    "```Matlab\n",
    "S = [];\n",
    "S.D = fD;\n",
    "mD = spm_opm_amm(S);\n",
    "```"
   ]
  },
  {
   "cell_type": "code",
   "execution_count": 10,
   "id": "3b4528f7",
   "metadata": {},
   "outputs": [],
   "source": [
    "S = Struct()\n",
    "S.D = fD\n",
    "mD = spm_opm_amm(S)"
   ]
  },
  {
   "cell_type": "markdown",
   "id": "ed47ed79",
   "metadata": {},
   "source": [
    "Matlab code:\n",
    "```Matlab\n",
    "S=[];\n",
    "S.triallength = 3000; \n",
    "S.plot=1;\n",
    "S.D=mD;\n",
    "[~,freq]=spm_opm_psd(S);\n",
    "```"
   ]
  },
  {
   "cell_type": "code",
   "execution_count": 11,
   "id": "b4fa2dfa",
   "metadata": {},
   "outputs": [],
   "source": [
    "S = Struct()\n",
    "S.triallength = 3000\n",
    "S.plot = 1\n",
    "S.D = mD\n",
    "[_,freq] = spm_opm_psd(S, nargout=2)"
   ]
  }
 ],
 "metadata": {
  "kernelspec": {
   "display_name": "Python 3 (ipykernel)",
   "language": "python",
   "name": "python3"
  },
  "language_info": {
   "codemirror_mode": {
    "name": "ipython",
    "version": 3
   },
   "file_extension": ".py",
   "mimetype": "text/x-python",
   "name": "python",
   "nbconvert_exporter": "python",
   "pygments_lexer": "ipython3",
   "version": "3.11.0"
  }
 },
 "nbformat": 4,
 "nbformat_minor": 5
}
