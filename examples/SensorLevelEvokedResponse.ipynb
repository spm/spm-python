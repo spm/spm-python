{
 "cells": [
  {
   "cell_type": "markdown",
   "id": "154d6287-de84-47cf-9315-ccf96458a363",
   "metadata": {},
   "source": [
    "[Download the tutorial data](https://www.fil.ion.ucl.ac.uk/spm/data/opm/opm-tutorial.zip) and unzip it, it should sit under \"spm-python/examples/tutorials/data\"."
   ]
  },
  {
   "cell_type": "code",
   "execution_count": 1,
   "id": "05fabab1-1da5-4994-931d-8691f87fc5b7",
   "metadata": {},
   "outputs": [],
   "source": [
    "import os.path as op\n",
    "\n",
    "datapath = op.join(\"data\", \"tutorial\")"
   ]
  },
  {
   "cell_type": "markdown",
   "id": "3e1ac1d7",
   "metadata": {},
   "source": [
    "Matlab code:\n",
    "```Matlab\n",
    "S = [];\n",
    "S.data ='OPM_meg_001.cMEG';\n",
    "S.positions= 'OPM_HelmConfig.tsv';\n",
    "D = spm_opm_create(S);\n",
    "```"
   ]
  },
  {
   "cell_type": "code",
   "execution_count": 2,
   "id": "1fa4744a",
   "metadata": {},
   "outputs": [
    {
     "name": "stdout",
     "output_type": "stream",
     "text": [
      "Initializing Matlab Runtime...\n",
      "\n"
     ]
    }
   ],
   "source": [
    "from spm import *\n",
    "\n",
    "S = Struct()\n",
    "S.data = op.join(datapath, \"OPM_meg_001.cMEG\")\n",
    "S.positions = op.join(datapath, \"OPM_HelmConfig.tsv\")\n",
    "D = spm_opm_create(S)"
   ]
  },
  {
   "cell_type": "markdown",
   "id": "0bee1539",
   "metadata": {},
   "source": [
    "Matlab code: \n",
    "```Matlab \n",
    "S=[];\n",
    "S.triallength = 3000; \n",
    "S.plot=1;\n",
    "S.D=D;\n",
    "S.channels='MEG';\n",
    "spm_opm_psd(S);\n",
    "ylim([1,1e5])\n",
    "```"
   ]
  },
  {
   "cell_type": "code",
   "execution_count": 9,
   "id": "480f20db",
   "metadata": {},
   "outputs": [
    {
     "ename": "MatlabRuntimeError",
     "evalue": "An error occurred when evaluating the result from a function. Details: \n  File C:\\Users\\jmedrano\\AppData\\Local\\MathWorks\\MatlabRuntimeCache\\R2024b\\_spm_e0\\_spm\\build\\spm\\@meeg\\subsref.m, line 15, in subsref\n\n  File C:\\Users\\jmedrano\\AppData\\Local\\MathWorks\\MatlabRuntimeCache\\R2024b\\_spm_e0\\_spm\\build\\spm\\toolbox\\MEEGtools\\spm_opm_psd.m, line 66, in spm_opm_psd\n\n  File C:\\Users\\jmedrano\\AppData\\Local\\MathWorks\\MatlabRuntimeCache\\R2024b\\_spm_e0\\_spm\\external\\mpython\\mpython_endpoint.m, line 18, in mpython_endpoint\nAttempt to reference a field of an empty meeg object.\n",
     "output_type": "error",
     "traceback": [
      "\u001b[1;31m---------------------------------------------------------------------------\u001b[0m",
      "\u001b[1;31mMatlabRuntimeError\u001b[0m                        Traceback (most recent call last)",
      "Cell \u001b[1;32mIn[9], line 6\u001b[0m\n\u001b[0;32m      4\u001b[0m S\u001b[38;5;241m.\u001b[39mD \u001b[38;5;241m=\u001b[39m D\n\u001b[0;32m      5\u001b[0m S\u001b[38;5;241m.\u001b[39mchannels \u001b[38;5;241m=\u001b[39m \u001b[38;5;124m'\u001b[39m\u001b[38;5;124mMEG\u001b[39m\u001b[38;5;124m'\u001b[39m\n\u001b[1;32m----> 6\u001b[0m \u001b[43mspm_opm_psd\u001b[49m\u001b[43m(\u001b[49m\u001b[43mS\u001b[49m\u001b[43m)\u001b[49m;\n",
      "File \u001b[1;32m~\\Documents\\Python\\spm-python\\spm\\__toolbox\\__MEEGtools\\spm_opm_psd.py:27\u001b[0m, in \u001b[0;36mspm_opm_psd\u001b[1;34m(*args, **kwargs)\u001b[0m\n\u001b[0;32m      4\u001b[0m \u001b[38;5;28;01mdef\u001b[39;00m \u001b[38;5;21mspm_opm_psd\u001b[39m(\u001b[38;5;241m*\u001b[39margs, \u001b[38;5;241m*\u001b[39m\u001b[38;5;241m*\u001b[39mkwargs):\n\u001b[0;32m      5\u001b[0m \u001b[38;5;250m    \u001b[39m\u001b[38;5;124;03m\"\"\"\u001b[39;00m\n\u001b[0;32m      6\u001b[0m \u001b[38;5;124;03m      Compute PSD for OPM data (for checking noise floor)  \u001b[39;00m\n\u001b[0;32m      7\u001b[0m \u001b[38;5;124;03m        FORMAT [po,freq,sel] = spm_opm_psd(S)  \u001b[39;00m\n\u001b[1;32m   (...)\u001b[0m\n\u001b[0;32m     25\u001b[0m \u001b[38;5;124;03m    Copyright (C) 2024-2024 Functional Imaging Laboratory, Department of Imaging Neuroscience, UCL\u001b[39;00m\n\u001b[0;32m     26\u001b[0m \u001b[38;5;124;03m    \"\"\"\u001b[39;00m\n\u001b[1;32m---> 27\u001b[0m     \u001b[38;5;28;01mreturn\u001b[39;00m \u001b[43mRuntime\u001b[49m\u001b[38;5;241;43m.\u001b[39;49m\u001b[43mcall\u001b[49m\u001b[43m(\u001b[49m\u001b[38;5;124;43m\"\u001b[39;49m\u001b[38;5;124;43mspm_opm_psd\u001b[39;49m\u001b[38;5;124;43m\"\u001b[39;49m\u001b[43m,\u001b[49m\u001b[43m \u001b[49m\u001b[38;5;241;43m*\u001b[39;49m\u001b[43margs\u001b[49m\u001b[43m,\u001b[49m\u001b[43m \u001b[49m\u001b[38;5;241;43m*\u001b[39;49m\u001b[38;5;241;43m*\u001b[39;49m\u001b[43mkwargs\u001b[49m\u001b[43m)\u001b[49m\n",
      "File \u001b[1;32m~\\Documents\\Python\\spm-python\\spm\\__wrapper__.py:69\u001b[0m, in \u001b[0;36mRuntime.call\u001b[1;34m(fn, *args, **kwargs)\u001b[0m\n\u001b[0;32m     66\u001b[0m \u001b[38;5;129m@staticmethod\u001b[39m\n\u001b[0;32m     67\u001b[0m \u001b[38;5;28;01mdef\u001b[39;00m \u001b[38;5;21mcall\u001b[39m(fn, \u001b[38;5;241m*\u001b[39margs, \u001b[38;5;241m*\u001b[39m\u001b[38;5;241m*\u001b[39mkwargs):\n\u001b[0;32m     68\u001b[0m     [args, kwargs] \u001b[38;5;241m=\u001b[39m Runtime\u001b[38;5;241m.\u001b[39m_process_argin(\u001b[38;5;241m*\u001b[39margs, \u001b[38;5;241m*\u001b[39m\u001b[38;5;241m*\u001b[39mkwargs)\n\u001b[1;32m---> 69\u001b[0m     res \u001b[38;5;241m=\u001b[39m \u001b[43mRuntime\u001b[49m\u001b[38;5;241;43m.\u001b[39;49m\u001b[43minstance\u001b[49m\u001b[43m(\u001b[49m\u001b[43m)\u001b[49m\u001b[38;5;241;43m.\u001b[39;49m\u001b[43mmpython_endpoint\u001b[49m\u001b[43m(\u001b[49m\u001b[43mfn\u001b[49m\u001b[43m,\u001b[49m\u001b[43m \u001b[49m\u001b[38;5;241;43m*\u001b[39;49m\u001b[43margs\u001b[49m\u001b[43m,\u001b[49m\u001b[43m \u001b[49m\u001b[38;5;241;43m*\u001b[39;49m\u001b[38;5;241;43m*\u001b[39;49m\u001b[43mkwargs\u001b[49m\u001b[43m)\u001b[49m\n\u001b[0;32m     70\u001b[0m     \u001b[38;5;28;01mreturn\u001b[39;00m Runtime\u001b[38;5;241m.\u001b[39m_process_argout(res)\n",
      "File \u001b[1;32mC:\\Program Files\\MATLAB\\MATLAB Runtime\\R2024b\\toolbox\\compiler_sdk\\pysdk_py\\matlab_pysdk\\runtime\\deployablefunc.py:79\u001b[0m, in \u001b[0;36mDeployableFunc.__call__\u001b[1;34m(self, *args, **kwargs)\u001b[0m\n\u001b[0;32m     75\u001b[0m     ret \u001b[38;5;241m=\u001b[39m futureresult\u001b[38;5;241m.\u001b[39mFutureResult(\u001b[38;5;28mself\u001b[39m\u001b[38;5;241m.\u001b[39m_cppext_handle, future_tuple, nlhs, \n\u001b[0;32m     76\u001b[0m         nlhsWasSpecified, stdoutObj, stderrObj)\n\u001b[0;32m     77\u001b[0m \u001b[38;5;28;01melse\u001b[39;00m:\n\u001b[0;32m     78\u001b[0m     ret \u001b[38;5;241m=\u001b[39m \u001b[43mfutureresult\u001b[49m\u001b[38;5;241;43m.\u001b[39;49m\u001b[43mFutureResult\u001b[49m\u001b[43m(\u001b[49m\u001b[38;5;28;43mself\u001b[39;49m\u001b[38;5;241;43m.\u001b[39;49m\u001b[43m_cppext_handle\u001b[49m\u001b[43m,\u001b[49m\u001b[43m \u001b[49m\u001b[43mfuture_tuple\u001b[49m\u001b[43m,\u001b[49m\u001b[43m \u001b[49m\u001b[43mnlhs\u001b[49m\u001b[43m,\u001b[49m\u001b[43m \u001b[49m\n\u001b[1;32m---> 79\u001b[0m \u001b[43m        \u001b[49m\u001b[43mnlhsWasSpecified\u001b[49m\u001b[43m,\u001b[49m\u001b[43m \u001b[49m\u001b[43mstdoutObj\u001b[49m\u001b[43m,\u001b[49m\u001b[43m \u001b[49m\u001b[43mstderrObj\u001b[49m\u001b[43m)\u001b[49m\u001b[38;5;241;43m.\u001b[39;49m\u001b[43mresult\u001b[49m\u001b[43m(\u001b[49m\u001b[43m)\u001b[49m\n\u001b[0;32m     81\u001b[0m \u001b[38;5;28;01mreturn\u001b[39;00m ret\n",
      "File \u001b[1;32mC:\\Program Files\\MATLAB\\MATLAB Runtime\\R2024b\\toolbox\\compiler_sdk\\pysdk_py\\matlab_pysdk\\runtime\\futureresult.py:134\u001b[0m, in \u001b[0;36mFutureResult.result\u001b[1;34m(self, timeout)\u001b[0m\n\u001b[0;32m    132\u001b[0m \u001b[38;5;66;03m# This clause makes the code easier to debug in the case of an exception.\u001b[39;00m\n\u001b[0;32m    133\u001b[0m \u001b[38;5;28;01mexcept\u001b[39;00m \u001b[38;5;167;01mException\u001b[39;00m \u001b[38;5;28;01mas\u001b[39;00m e:\n\u001b[1;32m--> 134\u001b[0m     \u001b[38;5;28;01mraise\u001b[39;00m e\n",
      "File \u001b[1;32mC:\\Program Files\\MATLAB\\MATLAB Runtime\\R2024b\\toolbox\\compiler_sdk\\pysdk_py\\matlab_pysdk\\runtime\\futureresult.py:122\u001b[0m, in \u001b[0;36mFutureResult.result\u001b[1;34m(self, timeout)\u001b[0m\n\u001b[0;32m    120\u001b[0m \u001b[38;5;66;03m# This clause makes the code easier to debug in the case of an exception.\u001b[39;00m\n\u001b[0;32m    121\u001b[0m \u001b[38;5;28;01mexcept\u001b[39;00m \u001b[38;5;167;01mException\u001b[39;00m \u001b[38;5;28;01mas\u001b[39;00m e:\n\u001b[1;32m--> 122\u001b[0m     \u001b[38;5;28;01mraise\u001b[39;00m e\n\u001b[0;32m    124\u001b[0m \u001b[38;5;28mself\u001b[39m\u001b[38;5;241m.\u001b[39m_retrieved \u001b[38;5;241m=\u001b[39m \u001b[38;5;28;01mTrue\u001b[39;00m\n\u001b[0;32m    125\u001b[0m \u001b[38;5;28;01mreturn\u001b[39;00m \u001b[38;5;28mself\u001b[39m\u001b[38;5;241m.\u001b[39m_result\n",
      "File \u001b[1;32mC:\\Program Files\\MATLAB\\MATLAB Runtime\\R2024b\\toolbox\\compiler_sdk\\pysdk_py\\matlab_pysdk\\runtime\\futureresult.py:111\u001b[0m, in \u001b[0;36mFutureResult.result\u001b[1;34m(self, timeout)\u001b[0m\n\u001b[0;32m    108\u001b[0m         \u001b[38;5;28mself\u001b[39m\u001b[38;5;241m.\u001b[39m_errh\u001b[38;5;241m.\u001b[39mraiseRuntimeError(\u001b[38;5;124m'\u001b[39m\u001b[38;5;124mTimeoutException\u001b[39m\u001b[38;5;124m'\u001b[39m)\n\u001b[0;32m    110\u001b[0m \u001b[38;5;28;01mtry\u001b[39;00m:\n\u001b[1;32m--> 111\u001b[0m     \u001b[38;5;28mself\u001b[39m\u001b[38;5;241m.\u001b[39m_result \u001b[38;5;241m=\u001b[39m \u001b[38;5;28;43mself\u001b[39;49m\u001b[38;5;241;43m.\u001b[39;49m\u001b[43m_cppext_handle\u001b[49m\u001b[38;5;241;43m.\u001b[39;49m\u001b[43mgetFEvalResult\u001b[49m\u001b[43m(\u001b[49m\u001b[38;5;28;43mself\u001b[39;49m\u001b[38;5;241;43m.\u001b[39;49m\u001b[43m_future_tuple\u001b[49m\u001b[43m,\u001b[49m\u001b[43m \u001b[49m\n\u001b[0;32m    112\u001b[0m \u001b[43m                                                  \u001b[49m\u001b[38;5;28;43mself\u001b[39;49m\u001b[38;5;241;43m.\u001b[39;49m\u001b[43m_nlhs\u001b[49m\u001b[43m,\u001b[49m\u001b[43m \u001b[49m\u001b[43mout\u001b[49m\u001b[38;5;241;43m=\u001b[39;49m\u001b[38;5;28;43mself\u001b[39;49m\u001b[38;5;241;43m.\u001b[39;49m\u001b[43m_out\u001b[49m\u001b[43m,\u001b[49m\u001b[43m \u001b[49m\u001b[43merr\u001b[49m\u001b[38;5;241;43m=\u001b[39;49m\u001b[38;5;28;43mself\u001b[39;49m\u001b[38;5;241;43m.\u001b[39;49m\u001b[43m_err\u001b[49m\u001b[43m)\u001b[49m\n\u001b[0;32m    113\u001b[0m \u001b[38;5;28;01mexcept\u001b[39;00m NumberOfOutputArgumentsError \u001b[38;5;28;01mas\u001b[39;00m e:\n\u001b[0;32m    114\u001b[0m     \u001b[38;5;28;01mif\u001b[39;00m \u001b[38;5;28mself\u001b[39m\u001b[38;5;241m.\u001b[39m_nlhsWasSpecified:\n",
      "\u001b[1;31mMatlabRuntimeError\u001b[0m: An error occurred when evaluating the result from a function. Details: \n  File C:\\Users\\jmedrano\\AppData\\Local\\MathWorks\\MatlabRuntimeCache\\R2024b\\_spm_e0\\_spm\\build\\spm\\@meeg\\subsref.m, line 15, in subsref\n\n  File C:\\Users\\jmedrano\\AppData\\Local\\MathWorks\\MatlabRuntimeCache\\R2024b\\_spm_e0\\_spm\\build\\spm\\toolbox\\MEEGtools\\spm_opm_psd.m, line 66, in spm_opm_psd\n\n  File C:\\Users\\jmedrano\\AppData\\Local\\MathWorks\\MatlabRuntimeCache\\R2024b\\_spm_e0\\_spm\\external\\mpython\\mpython_endpoint.m, line 18, in mpython_endpoint\nAttempt to reference a field of an empty meeg object.\n"
     ]
    }
   ],
   "source": [
    "S = Struct()\n",
    "S.triallength = 3000\n",
    "S.plot = 1\n",
    "S.D = D\n",
    "S.channels = \"MEG\"\n",
    "spm_opm_psd(S);"
   ]
  },
  {
   "cell_type": "markdown",
   "id": "94037c5a",
   "metadata": {},
   "source": [
    "Matlab code: \n",
    "```Matlab\n",
    "S=[];\n",
    "S.D=D;\n",
    "S.freq=[10];\n",
    "S.band = 'high';\n",
    "fD = spm_eeg_ffilter(S);\n",
    "\n",
    "S = [];\n",
    "S.D = fD;\n",
    "S.freq = [70];\n",
    "S.band = 'low';\n",
    "fD = spm_eeg_ffilter(S);\n",
    "```"
   ]
  },
  {
   "cell_type": "code",
   "execution_count": null,
   "id": "5bc827f9",
   "metadata": {},
   "outputs": [],
   "source": [
    "S = Struct()\n",
    "S.D = D\n",
    "S.freq = 10\n",
    "S.band = \"high\"\n",
    "fD = spm_eeg_ffilter(S)\n",
    "\n",
    "S = Struct()\n",
    "S.D = fD\n",
    "S.freq = 70\n",
    "S.band = \"low\"\n",
    "fD = spm_eeg_ffilter(S)"
   ]
  },
  {
   "cell_type": "markdown",
   "id": "ea631cdb",
   "metadata": {},
   "source": [
    "Matlab code:\n",
    "```Matlab\n",
    "S = [];\n",
    "S.D = fD;\n",
    "S.L = 1;\n",
    "[hfD] = spm_opm_hfc(S);\n",
    "```"
   ]
  },
  {
   "cell_type": "code",
   "execution_count": null,
   "id": "0d07a25f",
   "metadata": {},
   "outputs": [],
   "source": [
    "S = Struct()\n",
    "S.D = fD\n",
    "S.L = 1\n",
    "hfD = spm_opm_hfc(S)"
   ]
  },
  {
   "cell_type": "markdown",
   "id": "93691339",
   "metadata": {},
   "source": [
    "Matlab code:\n",
    "```Matlab\n",
    "S = [];\n",
    "S.D = fD;\n",
    "mD = spm_opm_amm(S);\n",
    "```"
   ]
  },
  {
   "cell_type": "code",
   "execution_count": null,
   "id": "3b4528f7",
   "metadata": {},
   "outputs": [],
   "source": [
    "S = Struct()\n",
    "S.D = fD\n",
    "mD = spm_opm_amm(S)"
   ]
  },
  {
   "cell_type": "markdown",
   "id": "ed47ed79",
   "metadata": {},
   "source": [
    "Matlab code:\n",
    "```Matlab\n",
    "S=[];\n",
    "S.triallength = 3000; \n",
    "S.plot=1;\n",
    "S.D=mD;\n",
    "[~,freq]=spm_opm_psd(S);\n",
    "```"
   ]
  },
  {
   "cell_type": "code",
   "execution_count": null,
   "id": "b4fa2dfa",
   "metadata": {},
   "outputs": [],
   "source": [
    "S = Struct()\n",
    "S.triallength = 3000\n",
    "S.plot = 1\n",
    "S.D = mD\n",
    "[_, freq] = spm_opm_psd(S, nargout=2)"
   ]
  }
 ],
 "metadata": {
  "kernelspec": {
   "display_name": "Python 3 (ipykernel)",
   "language": "python",
   "name": "python3"
  },
  "language_info": {
   "codemirror_mode": {
    "name": "ipython",
    "version": 3
   },
   "file_extension": ".py",
   "mimetype": "text/x-python",
   "name": "python",
   "nbconvert_exporter": "python",
   "pygments_lexer": "ipython3",
   "version": "3.11.0"
  }
 },
 "nbformat": 4,
 "nbformat_minor": 5
}
