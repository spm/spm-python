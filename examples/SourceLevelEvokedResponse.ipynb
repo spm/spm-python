{
 "cells": [
  {
   "cell_type": "code",
   "execution_count": 1,
   "id": "447821ba",
   "metadata": {},
   "outputs": [],
   "source": [
    "from spm import *\n",
    "import numpy as np\n",
    "import os.path as op\n",
    "\n",
    "datapath = op.join('data', 'tutorial')"
   ]
  },
  {
   "cell_type": "markdown",
   "id": "f9898fc5",
   "metadata": {},
   "source": [
    "```\n",
    "%- read data \n",
    "%--------------------------------------------------------------------------\n",
    "S = [];\n",
    "S.data = 'OPM_meg_001.cMEG';\n",
    "S.positions = 'OPM_HelmConfig.tsv';\n",
    "D = spm_opm_create(S);\n",
    "\n",
    "%- highpass\n",
    "%--------------------------------------------------------------------------\n",
    "S = [];\n",
    "S.D = D;\n",
    "S.freq = [10];\n",
    "S.band = 'high';\n",
    "fD = spm_eeg_ffilter(S);\n",
    "fr = S.freq;\n",
    "\n",
    "%- lowpass\n",
    "%--------------------------------------------------------------------------\n",
    "S = [];\n",
    "S.D = fD;\n",
    "S.freq = [70];\n",
    "S.band = 'low';\n",
    "fD = spm_eeg_ffilter(S);\n",
    "\n",
    "%- adaptive multipole models\n",
    "%--------------------------------------------------------------------------\n",
    "S = [];\n",
    "S.D = fD;\n",
    "S.corrLim = .98;\n",
    "mD = spm_opm_amm(S);\n",
    "\n",
    "%- epoch \n",
    "%--------------------------------------------------------------------------\n",
    "S = [];\n",
    "S.D = mD;\n",
    "S.timewin = [-50 200];\n",
    "S.triggerChannels = {'Trigger 6 Z'};\n",
    "eD = spm_opm_epoch_trigger(S);\n",
    "\n",
    "%- baseline correction \n",
    "%--------------------------------------------------------------------------\n",
    "S = [];\n",
    "S.D = eD;\n",
    "S.timewin = [-50 0];\n",
    "eD = spm_eeg_bc(S);\n",
    "```"
   ]
  },
  {
   "cell_type": "code",
   "execution_count": 2,
   "id": "c3228a9b",
   "metadata": {},
   "outputs": [
    {
     "name": "stdout",
     "output_type": "stream",
     "text": [
      "Initializing Matlab Runtime...\n"
     ]
    }
   ],
   "source": [
    "#- read data \n",
    "#--------------------------------------------------------------------------\n",
    "S = Struct()\n",
    "S.data = op.join(datapath, 'OPM_meg_001.cMEG')\n",
    "S.positions = op.join(datapath, 'OPM_HelmConfig.tsv')\n",
    "D = spm_opm_create(S)\n",
    "\n",
    "#- highpass\n",
    "#--------------------------------------------------------------------------\n",
    "S = Struct()\n",
    "S.D = D\n",
    "S.freq = 10\n",
    "S.band = 'high'\n",
    "fD = spm_eeg_ffilter(S)\n",
    "fr = S.freq\n",
    "\n",
    "#- lowpass\n",
    "#--------------------------------------------------------------------------\n",
    "S = Struct()\n",
    "S.D = fD\n",
    "S.freq = 70\n",
    "S.band = 'low'\n",
    "fD = spm_eeg_ffilter(S)\n",
    "\n",
    "#- adaptive multipole models\n",
    "#--------------------------------------------------------------------------\n",
    "S = Struct()\n",
    "S.D = fD\n",
    "S.corrLim = .98\n",
    "mD = spm_opm_amm(S)\n",
    "\n",
    "#- epoch \n",
    "#--------------------------------------------------------------------------\n",
    "S = Struct()\n",
    "S.D = mD\n",
    "S.timewin = np.array([-50, 200])\n",
    "S.triggerChannels = {'Trigger 6 Z'}\n",
    "eD = spm_opm_epoch_trigger(S)\n",
    "\n",
    "#- baseline correction \n",
    "#--------------------------------------------------------------------------\n",
    "S = Struct()\n",
    "S.D = eD\n",
    "S.timewin = np.array([-50, 0])\n",
    "eD = spm_eeg_bc(S);"
   ]
  },
  {
   "cell_type": "markdown",
   "id": "39711985",
   "metadata": {},
   "source": [
    "```matlab\n",
    "S = [];\n",
    "S.D = eD;\n",
    "S.headfile = 'head.obj';\n",
    "\n",
    " S.helmetref = ...\n",
    "[0,133.9,-24;...     %point 1 \n",
    "-114,30.5,-61;...    %point 2\n",
    "116,29,-59];         %point 3\n",
    "\n",
    "S.headhelmetref = ...\n",
    "[77,-23,608;...    %point 1\n",
    "31,90,715;...      %point 2\n",
    "26,-141,692];      %point 3\n",
    "\n",
    "S.headfid = ...\n",
    "[111.626,-9,504;... % nas\n",
    "97, 54, 551;...     % lpa\n",
    "84, -67, 548];      % rpa \n",
    "\n",
    "S.headhelmetfid = ... \n",
    "[33,-22.6,654;...   % nas\n",
    "14.7, 38.9, 699;... % lpa\n",
    "5,-82,693];         %rpa\n",
    "\n",
    "cD = spm_opm_opreg(S);\n",
    "```"
   ]
  },
  {
   "cell_type": "code",
   "execution_count": 3,
   "id": "40de61c6",
   "metadata": {},
   "outputs": [],
   "source": [
    "S = Struct()\n",
    "S.D = eD\n",
    "S.headfile = op.join(datapath, 'head.obj')\n",
    "\n",
    "S.helmetref = np.array(\n",
    "     [[0,133.9,-24],  \n",
    "     [-114,30.5,-61],\n",
    "      [116,29,-59]])\n",
    "\n",
    "S.headhelmetref = np.array(\n",
    "     [[77,-23,608],  \n",
    "     [31,90,715],\n",
    "      [26,-141,692]])\n",
    "\n",
    "S.headfid = np.array(\n",
    "     [[111.626,-9,504],  \n",
    "     [97, 54, 551],\n",
    "      [84, -67, 548]])\n",
    "\n",
    "S.headhelmetfid = np.array(\n",
    "     [[33,-22.6,654],  \n",
    "     [14.7, 38.9, 699],\n",
    "      [5,-82,693]])\n",
    "\n",
    "cD = spm_opm_opreg(S);"
   ]
  },
  {
   "cell_type": "markdown",
   "id": "f6189d4d",
   "metadata": {},
   "source": [
    "```\n",
    "bfDir = 'C:\\Users\\path\\to\\folder';\n",
    "S = [];\n",
    "S.dir = bfDir;\n",
    "S.D = fname(eD);\n",
    "S.space = 'Head';\n",
    "[BF] = bf_wizard_data(S);\n",
    "```"
   ]
  },
  {
   "cell_type": "code",
   "execution_count": 4,
   "id": "808f49c3",
   "metadata": {},
   "outputs": [],
   "source": [
    "S = Struct()\n",
    "S.dir = datapath\n",
    "S.D = eD.fullfile()\n",
    "S.space = 'Head'\n",
    "BF = bf_wizard_data(S);"
   ]
  },
  {
   "cell_type": "markdown",
   "id": "51a397dd",
   "metadata": {},
   "source": [
    "```\n",
    "S = [];\n",
    "S.BF = BF;\n",
    "S.method = 'grid';\n",
    "S.(S.method).resolution = 5;\n",
    "BF = bf_wizard_sources(S);\n",
    "```"
   ]
  },
  {
   "cell_type": "code",
   "execution_count": 5,
   "id": "62b457e0",
   "metadata": {},
   "outputs": [],
   "source": [
    "S = Struct()\n",
    "S.BF = BF\n",
    "S.method = 'grid'\n",
    "S.grid = Struct(resolution=5)\n",
    "BF = bf_wizard_sources(S);"
   ]
  },
  {
   "cell_type": "markdown",
   "id": "63951d35",
   "metadata": {},
   "source": [
    "```\n",
    "S = [];\n",
    "S.BF = BF;\n",
    "BF = bf_wizard_features(S);\n",
    "```"
   ]
  },
  {
   "cell_type": "code",
   "execution_count": 6,
   "id": "c19eea39",
   "metadata": {},
   "outputs": [],
   "source": [
    "BF = bf_wizard_features(dict(BF = BF));"
   ]
  },
  {
   "cell_type": "markdown",
   "id": "c26abc9f",
   "metadata": {},
   "source": [
    "```\n",
    "S = [];\n",
    "S.BF = BF;\n",
    "S.method = 'minimumnorm';\n",
    "S.(S.method).snr = 10^2;\n",
    "BF = bf_wizard_inverse(S);\n",
    "```"
   ]
  },
  {
   "cell_type": "code",
   "execution_count": 7,
   "id": "6240af91",
   "metadata": {},
   "outputs": [],
   "source": [
    "S = Struct()\n",
    "S.BF = BF\n",
    "S.method = 'minimumnorm'\n",
    "S.minimumnorm = dict(snr=10^2)\n",
    "BF = bf_wizard_inverse(S);"
   ]
  },
  {
   "cell_type": "markdown",
   "id": "57eed0e3",
   "metadata": {},
   "source": [
    "```\n",
    "S = [];\n",
    "S.BF = BF;\n",
    "S.act = 90;\n",
    "S.base = 1;\n",
    "bf_stat_evoked_t(S);\n",
    "```"
   ]
  },
  {
   "cell_type": "code",
   "execution_count": 8,
   "id": "9f1c6d67",
   "metadata": {},
   "outputs": [],
   "source": [
    "S = Struct()\n",
    "S.BF = BF\n",
    "S.act = 90\n",
    "S.base = 1\n",
    "bf_stat_evoked_t(S, nargout=0);"
   ]
  },
  {
   "cell_type": "code",
   "execution_count": 9,
   "id": "f8b6d767",
   "metadata": {},
   "outputs": [],
   "source": [
    "spm_image('Display','t_ALL_90_ALL_1_be_mffOPM_meg_001.nii')"
   ]
  }
 ],
 "metadata": {
  "kernelspec": {
   "display_name": "Python 3 (ipykernel)",
   "language": "python",
   "name": "python3"
  },
  "language_info": {
   "codemirror_mode": {
    "name": "ipython",
    "version": 3
   },
   "file_extension": ".py",
   "mimetype": "text/x-python",
   "name": "python",
   "nbconvert_exporter": "python",
   "pygments_lexer": "ipython3",
   "version": "3.11.0"
  }
 },
 "nbformat": 4,
 "nbformat_minor": 5
}
