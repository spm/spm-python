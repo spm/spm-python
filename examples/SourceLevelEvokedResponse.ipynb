{
 "cells": [
  {
   "cell_type": "code",
   "execution_count": 1,
   "id": "447821ba",
   "metadata": {},
   "outputs": [],
   "source": [
    "from spm import *\n",
    "import numpy as np\n",
    "\n",
    "\n",
    "datapath = '../../tutorial/'"
   ]
  },
  {
   "cell_type": "markdown",
   "id": "f9898fc5",
   "metadata": {},
   "source": [
    "```\n",
    "%- read data \n",
    "%--------------------------------------------------------------------------\n",
    "S = [];\n",
    "S.data = 'OPM_meg_001.cMEG';\n",
    "S.positions = 'OPM_HelmConfig.tsv';\n",
    "D = spm_opm_create(S);\n",
    "\n",
    "%- highpass\n",
    "%--------------------------------------------------------------------------\n",
    "S = [];\n",
    "S.D = D;\n",
    "S.freq = [10];\n",
    "S.band = 'high';\n",
    "fD = spm_eeg_ffilter(S);\n",
    "fr = S.freq;\n",
    "\n",
    "%- lowpass\n",
    "%--------------------------------------------------------------------------\n",
    "S = [];\n",
    "S.D = fD;\n",
    "S.freq = [70];\n",
    "S.band = 'low';\n",
    "fD = spm_eeg_ffilter(S);\n",
    "\n",
    "%- adaptive multipole models\n",
    "%--------------------------------------------------------------------------\n",
    "S = [];\n",
    "S.D = fD;\n",
    "S.corrLim = .98;\n",
    "mD = spm_opm_amm(S);\n",
    "\n",
    "%- epoch \n",
    "%--------------------------------------------------------------------------\n",
    "S = [];\n",
    "S.D = mD;\n",
    "S.timewin = [-50 200];\n",
    "S.triggerChannels = {'Trigger 6 Z'};\n",
    "eD = spm_opm_epoch_trigger(S);\n",
    "\n",
    "%- baseline correction \n",
    "%--------------------------------------------------------------------------\n",
    "S = [];\n",
    "S.D = eD;\n",
    "S.timewin = [-50 0];\n",
    "eD = spm_eeg_bc(S);\n",
    "```"
   ]
  },
  {
   "cell_type": "code",
   "execution_count": 2,
   "id": "c3228a9b",
   "metadata": {},
   "outputs": [
    {
     "name": "stdout",
     "output_type": "stream",
     "text": [
      "Initializing Matlab Runtime...\n",
      "\n",
      "SPM12: spm_opm_create                              10:13:47 - 16/10/2024\n",
      "========================================================================\n",
      "Warning: Cerca magnetics data currently requires separate coregistration and forward modelling\n",
      "> In spm_opm_create (line 68)\n",
      "In mpython_endpoint (line 5)\n",
      "Data type is missing or incorrect, assigning default.\n",
      "Warning: amplitude, distance and scaling are not supported for version \"2011v2\"\n",
      "\n",
      "SPM12: spm_opm_headmodel                           10:13:52 - 16/10/2024\n",
      "========================================================================\n",
      "Warning: coordsystem not found\n",
      "Warning: No files for coregistration supplied, skipping\\n\n",
      "Completed                               :          10:13:52 - 16/10/2024\n",
      "Filter high (butterworth, twopass)      :                        [10] Hz\n",
      "Filtering Channels (Forward)            :          10:13:53 - 16/10/2024\n",
      "Filtering Channels (backward)           :          10:13:54 - 16/10/2024\n",
      "Completed                               :          10:13:55 - 16/10/2024\n",
      "Filter low (butterworth, twopass)       :                        [70] Hz\n",
      "Filtering Channels (Forward)            :          10:13:56 - 16/10/2024\n",
      "Filtering Channels (backward)           :          10:13:57 - 16/10/2024\n",
      "Completed                               :          10:13:58 - 16/10/2024\n",
      "Created Design Matrix                   :          10:13:58 - 16/10/2024\n",
      "Creating output dataset\n",
      "Completed                               :          10:14:00 - 16/10/2024\n",
      "1 Triggers channels identified          :          10:14:00 - 16/10/2024\n",
      "800 Trials identified on Trigger 6 Z    :          10:14:00 - 16/10/2024\n",
      "\n",
      "SPM12: spm_eeg_epochs                              10:14:00 - 16/10/2024\n",
      "========================================================================\n",
      "Data type is missing or incorrect, assigning default.\n",
      "Baseline correction                     :                              0\n",
      "Number of trials                        :                            800\n",
      "Completed                               :          10:14:02 - 16/10/2024\n",
      "\n",
      "        SPM12: spm_eeg_bc                          10:14:02 - 16/10/2024\n",
      "        ----------------------------------------------------------------\n"
     ]
    }
   ],
   "source": [
    "#- read data \n",
    "#--------------------------------------------------------------------------\n",
    "S = Struct();\n",
    "S.data = datapath + 'OPM_meg_001.cMEG';\n",
    "S.positions = datapath + 'OPM_HelmConfig.tsv';\n",
    "D = spm_opm_create(S);\n",
    "\n",
    "#- highpass\n",
    "#--------------------------------------------------------------------------\n",
    "S = Struct();\n",
    "S.D = D;\n",
    "S.freq = 10;\n",
    "S.band = 'high';\n",
    "fD = spm_eeg_ffilter(S);\n",
    "fr = S.freq;\n",
    "\n",
    "#- lowpass\n",
    "#--------------------------------------------------------------------------\n",
    "S = Struct();\n",
    "S.D = fD;\n",
    "S.freq = 70;\n",
    "S.band = 'low';\n",
    "fD = spm_eeg_ffilter(S);\n",
    "\n",
    "#- adaptive multipole models\n",
    "#--------------------------------------------------------------------------\n",
    "S = Struct();\n",
    "S.D = fD;\n",
    "S.corrLim = .98;\n",
    "mD = spm_opm_amm(S);\n",
    "\n",
    "#- epoch \n",
    "#--------------------------------------------------------------------------\n",
    "S = Struct();\n",
    "S.D = mD;\n",
    "S.timewin = np.array([-50, 200]);\n",
    "S.triggerChannels = {'Trigger 6 Z'};\n",
    "eD = spm_opm_epoch_trigger(S);\n",
    "\n",
    "#- baseline correction \n",
    "#--------------------------------------------------------------------------\n",
    "S = Struct();\n",
    "S.D = eD;\n",
    "S.timewin = np.array([-50, 0]);\n",
    "eD = spm_eeg_bc(S);"
   ]
  },
  {
   "cell_type": "markdown",
   "id": "39711985",
   "metadata": {},
   "source": [
    "```matlab\n",
    "S = [];\n",
    "S.D = eD;\n",
    "S.headfile = 'head.obj';\n",
    "\n",
    " S.helmetref = ...\n",
    "[0,133.9,-24;...     %point 1 \n",
    "-114,30.5,-61;...    %point 2\n",
    "116,29,-59];         %point 3\n",
    "\n",
    "S.headhelmetref = ...\n",
    "[77,-23,608;...    %point 1\n",
    "31,90,715;...      %point 2\n",
    "26,-141,692];      %point 3\n",
    "\n",
    "S.headfid = ...\n",
    "[111.626,-9,504;... % nas\n",
    "97, 54, 551;...     % lpa\n",
    "84, -67, 548];      % rpa \n",
    "\n",
    "S.headhelmetfid = ... \n",
    "[33,-22.6,654;...   % nas\n",
    "14.7, 38.9, 699;... % lpa\n",
    "5,-82,693];         %rpa\n",
    "\n",
    "cD = spm_opm_opreg(S);\n",
    "```"
   ]
  },
  {
   "cell_type": "code",
   "execution_count": 3,
   "id": "40de61c6",
   "metadata": {},
   "outputs": [
    {
     "name": "stdout",
     "output_type": "stream",
     "text": [
      "Ignoring materials.\n",
      "Ignoring materials.\n",
      "SPM M/EEG data object\n",
      "Type: single\n",
      "Transform: time\n",
      "1 conditions\n",
      "136 channels\n",
      "301 samples/trial\n",
      "800 trials\n",
      "Sampling frequency: 1200 Hz\n",
      "Loaded from file  ../../tutorial/be_mffOPM_meg_001.mat\n",
      "\n",
      "Use the syntax D(channels, samples, trials) to access the data\n",
      "Type \"methods('meeg')\" for the list of methods performing other operations with the object\n",
      "Type \"help meeg/method_name\" to get help about methods\n",
      "\n",
      "\n",
      "SPM12: spm_eeg_inv_forward                         10:14:19 - 16/10/2024\n",
      "========================================================================\n",
      "Warning: amplitude, distance and scaling are not supported for version \"2011v2\"\n",
      "-------------------------------------------------------------------------------------------\n",
      "FieldTrip is developed by members and collaborators of the Donders Institute for Brain,\n",
      "Cognition and Behaviour at Radboud University, Nijmegen, the Netherlands.\n",
      "\n",
      "                          --------------------------\n",
      "                        /                            \\\n",
      "                     ------------------------------------\n",
      "                    /                                    \\\n",
      "          -------------------------------------------------\n",
      "         /                            /\\/\\/\\/\\/\\ \n",
      "         ---------------------------------------------------\n",
      "                  |        F  i  e  l  d  T  r  i  p       |\n",
      "                  ------------------------------------------\n",
      "                   \\                                      /\n",
      "                     ------------------------------------\n",
      "                          \\            /\n",
      "                            ----------\n",
      "\n",
      "Please cite the FieldTrip reference paper when you have used FieldTrip in your study.\n",
      "Robert Oostenveld, Pascal Fries, Eric Maris, and Jan-Mathijs Schoffelen. FieldTrip: Open\n",
      "Source Software for Advanced Analysis of MEG, EEG, and Invasive Electrophysiological Data.\n",
      "Computational Intelligence and Neuroscience, vol. 2011, Article ID 156869, 9 pages, 2011.\n",
      "doi:10.1155/2011/156869.\n",
      "-------------------------------------------------------------------------------------------\n",
      "Warning: enabling online tracking of FieldTrip usage, see http://www.fieldtriptoolbox.org/faq/tracking\n",
      "Completed                               :          10:14:21 - 16/10/2024\n",
      "computing surface normals\n"
     ]
    }
   ],
   "source": [
    "S = Struct();\n",
    "S.D = eD;\n",
    "S.headfile = datapath + 'head.obj';\n",
    "\n",
    "S.helmetref = np.array(\n",
    "     [[0,133.9,-24],  \n",
    "     [-114,30.5,-61],\n",
    "      [116,29,-59]])\n",
    "\n",
    "S.headhelmetref = np.array(\n",
    "     [[77,-23,608],  \n",
    "     [31,90,715],\n",
    "      [26,-141,692]])\n",
    "\n",
    "S.headfid = np.array(\n",
    "     [[111.626,-9,504],  \n",
    "     [97, 54, 551],\n",
    "      [84, -67, 548]])\n",
    "\n",
    "S.headhelmetfid = np.array(\n",
    "     [[33,-22.6,654],  \n",
    "     [14.7, 38.9, 699],\n",
    "      [5,-82,693]])\n",
    "\n",
    "cD = spm_opm_opreg(S);"
   ]
  },
  {
   "cell_type": "markdown",
   "id": "f6189d4d",
   "metadata": {},
   "source": [
    "```\n",
    "bfDir = 'C:\\Users\\path\\to\\folder';\n",
    "S = [];\n",
    "S.dir = bfDir;\n",
    "S.D = fname(eD);\n",
    "S.space = 'Head';\n",
    "[BF] = bf_wizard_data(S);\n",
    "```"
   ]
  },
  {
   "cell_type": "code",
   "execution_count": 15,
   "id": "808f49c3",
   "metadata": {},
   "outputs": [
    {
     "name": "stdout",
     "output_type": "stream",
     "text": [
      "\n",
      "\n",
      "------------------------------------------------------------------------\n",
      "16-Oct-2024 10:18:52 - Running job #3\n",
      "------------------------------------------------------------------------\n",
      "16-Oct-2024 10:18:52 - Running 'Prepare data'\n",
      "16-Oct-2024 10:18:52 - Done    'Prepare data'\n",
      "16-Oct-2024 10:18:52 - Done\n",
      "\n"
     ]
    }
   ],
   "source": [
    "S = Struct();\n",
    "S.dir = datapath;\n",
    "S.D = eD.fullfile();\n",
    "S.space = 'Head';\n",
    "BF = bf_wizard_data(S);"
   ]
  },
  {
   "cell_type": "markdown",
   "id": "51a397dd",
   "metadata": {},
   "source": [
    "```\n",
    "S = [];\n",
    "S.BF = BF;\n",
    "S.method = 'grid';\n",
    "S.(S.method).resolution = 5;\n",
    "BF = bf_wizard_sources(S);\n",
    "```"
   ]
  },
  {
   "cell_type": "code",
   "execution_count": 16,
   "id": "62b457e0",
   "metadata": {},
   "outputs": [
    {
     "name": "stdout",
     "output_type": "stream",
     "text": [
      "\n",
      "\n",
      "------------------------------------------------------------------------\n",
      "16-Oct-2024 10:20:07 - Running job #3\n",
      "------------------------------------------------------------------------\n",
      "16-Oct-2024 10:20:07 - Running 'Define sources'\n",
      "computing surface normals\n",
      "16-Oct-2024 10:20:54 - Done    'Define sources'\n",
      "16-Oct-2024 10:20:54 - Done\n",
      "\n"
     ]
    }
   ],
   "source": [
    "S = Struct();\n",
    "S.BF = BF;\n",
    "S.method = 'grid';\n",
    "S.grid = Struct(resolution=5);\n",
    "BF = bf_wizard_sources(S);"
   ]
  },
  {
   "cell_type": "markdown",
   "id": "63951d35",
   "metadata": {},
   "source": [
    "```\n",
    "S = [];\n",
    "S.BF = BF;\n",
    "BF = bf_wizard_features(S);\n",
    "```"
   ]
  },
  {
   "cell_type": "code",
   "execution_count": 17,
   "id": "c19eea39",
   "metadata": {},
   "outputs": [
    {
     "name": "stdout",
     "output_type": "stream",
     "text": [
      "\n",
      "\n",
      "------------------------------------------------------------------------\n",
      "16-Oct-2024 10:20:54 - Running job #3\n",
      "------------------------------------------------------------------------\n",
      "16-Oct-2024 10:20:54 - Running 'Covariance features'\n",
      "16-Oct-2024 10:20:56 - Done    'Covariance features'\n",
      "16-Oct-2024 10:20:56 - Done\n",
      "\n"
     ]
    }
   ],
   "source": [
    "BF = bf_wizard_features(dict(BF = BF));"
   ]
  },
  {
   "cell_type": "markdown",
   "id": "c26abc9f",
   "metadata": {},
   "source": [
    "```\n",
    "S = [];\n",
    "S.BF = BF;\n",
    "S.method = 'minimumnorm';\n",
    "S.(S.method).snr = 10^2;\n",
    "BF = bf_wizard_inverse(S);\n",
    "```"
   ]
  },
  {
   "cell_type": "code",
   "execution_count": 19,
   "id": "6240af91",
   "metadata": {},
   "outputs": [
    {
     "name": "stdout",
     "output_type": "stream",
     "text": [
      "\n",
      "\n",
      "------------------------------------------------------------------------\n",
      "16-Oct-2024 10:21:34 - Running job #3\n",
      "------------------------------------------------------------------------\n",
      "16-Oct-2024 10:21:34 - Running 'Inverse solution'\n",
      "16-Oct-2024 10:21:37 - Done    'Inverse solution'\n",
      "16-Oct-2024 10:21:37 - Done\n",
      "\n"
     ]
    }
   ],
   "source": [
    "S = Struct()\n",
    "S.BF = BF;\n",
    "S.method = 'minimumnorm';\n",
    "S.minimumnorm = dict(snr=10^2);\n",
    "BF = bf_wizard_inverse(S);"
   ]
  },
  {
   "cell_type": "markdown",
   "id": "57eed0e3",
   "metadata": {},
   "source": [
    "```\n",
    "S = [];\n",
    "S.BF = BF;\n",
    "S.act = 90;\n",
    "S.base = 1;\n",
    "bf_stat_evoked_t(S);\n",
    "```"
   ]
  },
  {
   "cell_type": "code",
   "execution_count": 20,
   "id": "9f1c6d67",
   "metadata": {},
   "outputs": [
    {
     "name": "stdout",
     "output_type": "stream",
     "text": [
      "Warning: Colon operands must be real scalars. This warning will become an error in a future release.\n",
      "the input is volume data with dimensions [91 109 91]\n",
      "voxel size along 1st dimension (i) : 2.000000 mm\n",
      "voxel size along 2nd dimension (j) : 2.000000 mm\n",
      "voxel size along 3rd dimension (k) : 2.000000 mm\n",
      "volume per voxel                   : 8.000000 mm^3\n",
      "the input is source data with 32256 brainordinates on a [28 36 32] grid\n",
      "could not reshape \"allpos\" to the dimensions of the volume\n",
      "selecting subvolume of 50.6%\n",
      "interpolating\n",
      "interpolating 100.0\n",
      "reslicing and interpolating pow\n",
      "interpolating\n",
      "interpolating 100.0\n"
     ]
    },
    {
     "name": "stderr",
     "output_type": "stream",
     "text": [
      "Xlib: sequence lost (0x10000 > 0xe98f) in reply type 0x3!\n",
      "Xlib: sequence lost (0x10000 > 0xea0c) in reply type 0x2!\n"
     ]
    }
   ],
   "source": [
    "S = Struct()\n",
    "S.BF = BF;\n",
    "S.act = 90;\n",
    "S.base = 1;\n",
    "bf_stat_evoked_t(S, nargout=0);"
   ]
  },
  {
   "cell_type": "code",
   "execution_count": 24,
   "id": "f8b6d767",
   "metadata": {},
   "outputs": [
    {
     "name": "stdout",
     "output_type": "stream",
     "text": [
      "\n",
      "SPM12: spm_image                                   10:26:08 - 16/10/2024\n",
      "========================================================================\n",
      "Display t_ALL_90_ALL_1_be_mffOPM_meg_001.nii,1\n"
     ]
    }
   ],
   "source": [
    "spm_image('Display','t_ALL_90_ALL_1_be_mffOPM_meg_001.nii')"
   ]
  }
 ],
 "metadata": {
  "kernelspec": {
   "display_name": "Python 3 (ipykernel)",
   "language": "python",
   "name": "python3"
  },
  "language_info": {
   "codemirror_mode": {
    "name": "ipython",
    "version": 3
   },
   "file_extension": ".py",
   "mimetype": "text/x-python",
   "name": "python",
   "nbconvert_exporter": "python",
   "pygments_lexer": "ipython3",
   "version": "3.9.12"
  }
 },
 "nbformat": 4,
 "nbformat_minor": 5
}
