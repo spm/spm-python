{
 "cells": [
  {
   "cell_type": "code",
   "execution_count": 12,
   "id": "6c47b83c-b01c-48a2-8f1b-59d68e862477",
   "metadata": {},
   "outputs": [],
   "source": [
    "from spm import *\n",
    "from spm.__wrapper__ import Runtime\n",
    "from scipy.linalg import block_diag\n",
    "import numpy as np"
   ]
  },
  {
   "cell_type": "markdown",
   "id": "3f33b5bf-4e12-48aa-9575-34699128bca8",
   "metadata": {},
   "source": [
    "```\n",
    "% set up and preliminaries\n",
    "%==========================================================================\n",
    "rng('default')\n",
    "```"
   ]
  },
  {
   "cell_type": "code",
   "execution_count": 6,
   "id": "e776d744-05d3-435f-a960-1223ff4f2a29",
   "metadata": {},
   "outputs": [],
   "source": [
    "Runtime.call(\"rng\", \"default\");"
   ]
  },
  {
   "cell_type": "markdown",
   "id": "a9d598b9-6f0d-4638-951e-b1abc9dcf138",
   "metadata": {},
   "source": [
    "```\n",
    "% observation probabilities\n",
    "%--------------------------------------------------------------------------\n",
    "a      = .9;\n",
    "A{1,1} = [.5 .5; .5 .5; 0 0; 0 0];\n",
    "A{2,2} = [0 0; 0 0; a (1 - a); (1 - a) a];\n",
    "A{3,3} = [0 0; 0 0; (1 - a) a; a (1 - a)];\n",
    "A{4,4} = [1 0; 0 1; 0 0; 0 0];\n",
    "A      = spm_cat(A);\n",
    "```"
   ]
  },
  {
   "cell_type": "code",
   "execution_count": 13,
   "id": "5bdcdf7a-7133-4e7f-a011-5f34a488d54d",
   "metadata": {},
   "outputs": [],
   "source": [
    "a = 0.9\n",
    "A1 = np.array([[0.5, 0.5], [0.5, 0.5], [0, 0], [0, 0]])\n",
    "A2 = np.array([[0, 0], [0, 0], [a, (1 - a)], [(1 - a), a]])\n",
    "A3 = np.array([[0, 0], [0, 0], [(1 - a), a], [a, (1 - a)]])\n",
    "A4 = np.array([[1, 0], [0, 1], [0, 0], [0, 0]])\n",
    "A = block_diag(A1, A2, A3, A4);"
   ]
  },
  {
   "cell_type": "markdown",
   "id": "d19195be-f7fe-4c30-b6f9-89696aa19106",
   "metadata": {},
   "source": [
    "```\n",
    "% transition probabilities\n",
    "%--------------------------------------------------------------------------\n",
    "for i = 1:4\n",
    "    B{i} = zeros(4,4);\n",
    "    B{i}([2 3],[2 3]) = eye(2);\n",
    "    B{i}(i,[1 4])     = 1;\n",
    "    B{i} = kron(B{i},eye(2));\n",
    "end\n",
    "```"
   ]
  },
  {
   "cell_type": "code",
   "execution_count": 24,
   "id": "9f9f8e1d-73ad-46ec-a8c9-1025920cbc08",
   "metadata": {},
   "outputs": [],
   "source": [
    "B = [[]] * 4\n",
    "i = 0\n",
    "for i, _ in enumerate(B):\n",
    "    B[i] = np.zeros((4, 4))\n",
    "    B[i][1:3, 1:3] = np.eye(2)\n",
    "    B[i][i, [0, 3]] = 1\n",
    "    B[i] = np.kron(B[i], np.eye(2))"
   ]
  },
  {
   "cell_type": "markdown",
   "id": "25bae43b-a701-4131-9555-7db030c9bfeb",
   "metadata": {},
   "source": [
    "```\n",
    "% priors: softmax(utility)\n",
    "%--------------------------------------------------------------------------\n",
    "c  = 2;\n",
    "C  = spm_softmax(kron(ones(4,1),[0; 0; c; -c]));\n",
    "\n",
    "% prior beliefs about initial state\n",
    "%--------------------------------------------------------------------------\n",
    "D  = kron([1 0 0 0],[1 1]/2)';\n",
    "\n",
    "% true initial state\n",
    "%--------------------------------------------------------------------------\n",
    "S  = kron([1 0 0 0],[1 0])';\n",
    "\n",
    "\n",
    "% allowable policies (of depth T)\n",
    "%--------------------------------------------------------------------------\n",
    "V  = [1  1  1  1  2  2  2  2  3  3  3  3  4  4  4  4\n",
    "      1  2  3  4  1  2  3  4  1  2  3  4  1  2  3  4\n",
    "      1  2  3  4  1  2  3  4  1  2  3  4  1  2  3  4];\n",
    "```"
   ]
  },
  {
   "cell_type": "code",
   "execution_count": 44,
   "id": "554cdbfd-d5ef-4ce5-8c55-ce033cd0a970",
   "metadata": {},
   "outputs": [],
   "source": [
    "c = 2\n",
    "C = spm_softmax(np.kron(np.ones((4, 1)), np.array([0, 0, c, -c]).reshape((-1, 1))))\n",
    "\n",
    "D = np.kron([1, 0, 0, 0], [0.5, 0.5])\n",
    "\n",
    "S = np.kron([1, 0, 0, 0], [1, 0]).reshape((-1, 1))\n",
    "\n",
    "V = np.array(\n",
    "    [\n",
    "        1,\n",
    "        1,\n",
    "        1,\n",
    "        1,\n",
    "        2,\n",
    "        2,\n",
    "        2,\n",
    "        2,\n",
    "        3,\n",
    "        3,\n",
    "        3,\n",
    "        3,\n",
    "        4,\n",
    "        4,\n",
    "        4,\n",
    "        4,\n",
    "        1,\n",
    "        2,\n",
    "        3,\n",
    "        4,\n",
    "        1,\n",
    "        2,\n",
    "        3,\n",
    "        4,\n",
    "        1,\n",
    "        2,\n",
    "        3,\n",
    "        4,\n",
    "        1,\n",
    "        2,\n",
    "        3,\n",
    "        4,\n",
    "        1,\n",
    "        2,\n",
    "        3,\n",
    "        4,\n",
    "        1,\n",
    "        2,\n",
    "        3,\n",
    "        4,\n",
    "        1,\n",
    "        2,\n",
    "        3,\n",
    "        4,\n",
    "        1,\n",
    "        2,\n",
    "        3,\n",
    "        4,\n",
    "    ]\n",
    ");"
   ]
  },
  {
   "cell_type": "markdown",
   "id": "83f10e2b-a4be-4cde-bc38-7732d843bdec",
   "metadata": {},
   "source": [
    "```\n",
    "% MDP Structure\n",
    "%==========================================================================\n",
    "MDP.N = 8;                          % number of variational iterations\n",
    "MDP.S = S;                          % true initial state\n",
    "MDP.A = A;                          % observation model\n",
    "MDP.B = B;                          % transition probabilities (priors)\n",
    "MDP.C = C;                          % terminal cost probabilities (priors)\n",
    "MDP.D = D;                          % initial state probabilities (priors)\n",
    "MDP.V = V;                          % allowable policies\n",
    "\n",
    "MDP.alpha  = 64;                    % gamma hyperparameter\n",
    "MDP.beta   = 4;                     % gamma hyperparameter\n",
    "MDP.lambda = 1/4;                   % precision update rate\n",
    "```"
   ]
  },
  {
   "cell_type": "code",
   "execution_count": 48,
   "id": "79895289-2b0a-467f-9182-42da703ea5a3",
   "metadata": {},
   "outputs": [],
   "source": [
    "MDP = Struct()\n",
    "\n",
    "MDP.N = 8  # number of variational iterations\n",
    "MDP.S = S  # true initial state\n",
    "MDP.A = A  # observation model\n",
    "MDP.B = B  # transition probabilities (priors)\n",
    "MDP.C = C  # terminal cost probabilities (priors)\n",
    "MDP.D = D  # initial state probabilities (priors)\n",
    "MDP.V = V  # allowable policies\n",
    "\n",
    "MDP.alpha = 64  # gamma hyperparameter\n",
    "MDP.beta = 4  # gamma hyperparameter\n",
    "MDP[\"lambda\"] = 0.25  # precision update rate"
   ]
  },
  {
   "cell_type": "markdown",
   "id": "cbbf90ef-9cb3-4a96-a565-65b1988593a5",
   "metadata": {},
   "source": [
    "```\n",
    "% Solve - an example game\n",
    "%==========================================================================\n",
    "spm_figure('GetWin','Figure 1'); clf\n",
    "MDP.plot = gcf;\n",
    "MDP      = spm_MDP_game(MDP,'FE');\n",
    "```"
   ]
  },
  {
   "cell_type": "code",
   "execution_count": 49,
   "id": "6ff89955-7283-4ed0-994d-ac90962d534f",
   "metadata": {},
   "outputs": [],
   "source": [
    "MDP[\"plot\"] = True\n",
    "MDP = spm_MDP_game(MDP, \"FE\");"
   ]
  }
 ],
 "metadata": {
  "kernelspec": {
   "display_name": "Python 3 (ipykernel)",
   "language": "python",
   "name": "python3"
  },
  "language_info": {
   "codemirror_mode": {
    "name": "ipython",
    "version": 3
   },
   "file_extension": ".py",
   "mimetype": "text/x-python",
   "name": "python",
   "nbconvert_exporter": "python",
   "pygments_lexer": "ipython3",
   "version": "3.11.0"
  }
 },
 "nbformat": 4,
 "nbformat_minor": 5
}
