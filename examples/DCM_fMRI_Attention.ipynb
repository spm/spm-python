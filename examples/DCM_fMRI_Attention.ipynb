{
 "cells": [
  {
   "cell_type": "code",
   "execution_count": 1,
   "id": "ef56a4c5-db53-480d-b00e-277e89d40627",
   "metadata": {},
   "outputs": [],
   "source": [
    "from spm import *\n",
    "\n",
    "import numpy as np\n",
    "import os.path as op"
   ]
  },
  {
   "cell_type": "markdown",
   "id": "943542a9-d632-44a3-b655-58180e372ab3",
   "metadata": {},
   "source": [
    "```\n",
    "% Directory containing the attention data\n",
    "%--------------------------------------------------------------------------\n",
    "data_path = fileparts(mfilename('fullpath'));\n",
    "if isempty(data_path), data_path = pwd; end\n",
    "fprintf('%-40s:', 'Downloading Attention dataset...');\n",
    "urlwrite('http://www.fil.ion.ucl.ac.uk/spm/download/data/attention/attention.zip','attention.zip');\n",
    "unzip(fullfile(data_path,'attention.zip'));\n",
    "data_path = fullfile(data_path,'attention');\n",
    "fprintf(' %30s\\n', '...done');\n",
    "```"
   ]
  },
  {
   "cell_type": "code",
   "execution_count": 2,
   "id": "dc880168-7785-4feb-bee9-8d556304a620",
   "metadata": {},
   "outputs": [],
   "source": [
    "data_path = op.join(\"data\", \"attention\")\n",
    "zip_path = op.join(\"data\", \"attention.zip\")\n",
    "if not op.isdir(data_path):\n",
    "    if not op.isfile(zip_path):\n",
    "        import wget\n",
    "\n",
    "        wget.download(\n",
    "            \"https://www.fil.ion.ucl.ac.uk/spm/download/data/attention/attention.zip\",\n",
    "            \"data\",\n",
    "        )\n",
    "\n",
    "    import shutil\n",
    "\n",
    "    shutil.unpack_archive(zip_path, \"data\", \"zip\")"
   ]
  },
  {
   "cell_type": "markdown",
   "id": "e75f6cd1-c18c-460b-b502-17d18824c180",
   "metadata": {},
   "source": [
    "```\n",
    "% Initialise SPM\n",
    "%--------------------------------------------------------------------------\n",
    "spm('Defaults','fMRI');\n",
    "spm_jobman('initcfg');\n",
    "```"
   ]
  },
  {
   "cell_type": "code",
   "execution_count": 3,
   "id": "87e3d743-4e7a-4034-8307-92f9a717bb59",
   "metadata": {},
   "outputs": [
    {
     "name": "stdout",
     "output_type": "stream",
     "text": [
      "Initializing Matlab Runtime...\n"
     ]
    }
   ],
   "source": [
    "spm(\"Defaults\", \"fMRI\")\n",
    "spm_jobman(\"initcfg\", nargout=0)"
   ]
  },
  {
   "cell_type": "markdown",
   "id": "28c1aa7a-75e8-42e6-afe9-36499b22c0f3",
   "metadata": {},
   "source": [
    "```\n",
    "% SPECIFICATION DCMs \"attentional modulation of backward/forward connection\"\n",
    "%--------------------------------------------------------------------------\n",
    "% To specify a DCM, you might want to create a template one using the GUI\n",
    "% then use spm_dcm_U.m and spm_dcm_voi.m to insert new inputs and new\n",
    "% regions. The following code creates a DCM file from scratch, which\n",
    "% involves some technical subtleties and a deeper knowledge of the DCM\n",
    "% structure.\n",
    "\n",
    "load(fullfile(data_path,'GLM','SPM.mat'));\n",
    "```"
   ]
  },
  {
   "cell_type": "code",
   "execution_count": 4,
   "id": "30a63d8f-358c-426b-bc3a-0bf2238daed5",
   "metadata": {},
   "outputs": [],
   "source": [
    "SPM = Runtime.call(\"load\", op.join(data_path, \"GLM\", \"SPM.mat\"))[\"SPM\"]"
   ]
  },
  {
   "cell_type": "code",
   "execution_count": 5,
   "id": "b914c21a-173b-47c5-bd36-9d8c236b6181",
   "metadata": {},
   "outputs": [],
   "source": [
    "DCM = Struct()\n",
    "\n",
    "xY1 = Runtime.call(\"load\", op.join(data_path, \"GLM\", \"VOI_V1_1.mat\"))[\"xY\"]\n",
    "xY2 = Runtime.call(\"load\", op.join(data_path, \"GLM\", \"VOI_V5_1.mat\"))[\"xY\"]\n",
    "xY3 = Runtime.call(\"load\", op.join(data_path, \"GLM\", \"VOI_SPC_1.mat\"))[\"xY\"]\n",
    "\n",
    "DCM.xY = StructArray(xY1, xY2, xY3)"
   ]
  },
  {
   "cell_type": "code",
   "execution_count": 6,
   "id": "055f2ec0-9adb-4aab-9c7d-f7146b6b63dd",
   "metadata": {},
   "outputs": [],
   "source": [
    "DCM.n = 3\n",
    "DCM.v = xY1[\"u\"].shape[0]"
   ]
  },
  {
   "cell_type": "markdown",
   "id": "f5bf7b4e-b993-41b7-bcaa-f3ba85927334",
   "metadata": {},
   "source": [
    "```\n",
    "% Time series\n",
    "%--------------------------------------------------------------------------\n",
    "DCM.Y.dt  = SPM.xY.RT;\n",
    "DCM.Y.X0  = DCM.xY(1).X0;\n",
    "for i = 1:DCM.n\n",
    "    DCM.Y.y(:,i)  = DCM.xY(i).u;\n",
    "    DCM.Y.name{i} = DCM.xY(i).name;\n",
    "end\n",
    "\n",
    "DCM.Y.Q    = spm_Ce(ones(1,DCM.n)*DCM.v);\n",
    "```"
   ]
  },
  {
   "cell_type": "code",
   "execution_count": 7,
   "id": "a5adc984-213e-42f1-a0f5-5bdef756516f",
   "metadata": {},
   "outputs": [],
   "source": [
    "DCM.Y = Struct()\n",
    "DCM.Y.dt = SPM.xY.RT\n",
    "DCM.Y.X0 = xY1.X0\n",
    "\n",
    "DCM.Y.y = np.concatenate([xY.u for xY in (xY1, xY2, xY3)], axis=1)\n",
    "DCM.Y.name = [xY.name for xY in (xY1, xY2, xY3)]\n",
    "\n",
    "DCM.Y.Q = spm_Ce(np.ones((1, DCM.n)) * DCM.v)"
   ]
  },
  {
   "cell_type": "markdown",
   "id": "3a84300b-da30-440f-9c71-0e4bd1078d4a",
   "metadata": {},
   "source": [
    "```\n",
    "% Experimental inputs\n",
    "%--------------------------------------------------------------------------\n",
    "DCM.U.dt   =  SPM.Sess.U(1).dt;\n",
    "DCM.U.name = [SPM.Sess.U.name];\n",
    "DCM.U.u    = [SPM.Sess.U(1).u(33:end,1) ...\n",
    "              SPM.Sess.U(2).u(33:end,1) ...\n",
    "              SPM.Sess.U(3).u(33:end,1)];\n",
    "```"
   ]
  },
  {
   "cell_type": "code",
   "execution_count": 8,
   "id": "f6a1fcaa-efd7-4533-9a7c-a41df20e0e35",
   "metadata": {},
   "outputs": [],
   "source": [
    "DCM.U = Struct()\n",
    "DCM.U.dt = SPM.Sess.U[0].dt\n",
    "DCM.U.name = [u.name for u in SPM.Sess.U]\n",
    "DCM.U.u = np.concatenate([u.u[32:] for u in SPM.Sess.U], axis=1)"
   ]
  },
  {
   "cell_type": "markdown",
   "id": "7cd30ad6-b351-49a3-82d9-c37ffc2baf65",
   "metadata": {},
   "source": [
    "```\n",
    "% DCM parameters and options\n",
    "%--------------------------------------------------------------------------\n",
    "DCM.delays = repmat(SPM.xY.RT/2,DCM.n,1);\n",
    "DCM.TE     = 0.04;\n",
    "\n",
    "DCM.options.nonlinear  = 0;\n",
    "DCM.options.two_state  = 0;\n",
    "DCM.options.stochastic = 0;\n",
    "DCM.options.nograph    = 1;\n",
    "```"
   ]
  },
  {
   "cell_type": "code",
   "execution_count": 9,
   "id": "0268285d-167c-46b1-9923-604b7024c7b7",
   "metadata": {},
   "outputs": [],
   "source": [
    "DCM.delays = np.repeat([[SPM[\"xY\"][\"RT\"] / 2]], DCM.n, 1)\n",
    "DCM.TE = 0.04\n",
    "\n",
    "DCM.options = Struct()\n",
    "DCM.options.nonlinear = 0\n",
    "DCM.options.two_state = 0\n",
    "DCM.options.stochastic = 0\n",
    "DCM.options.nograph = 1"
   ]
  },
  {
   "cell_type": "markdown",
   "id": "17602396-021b-44b6-a9d4-1b5f1f2854e0",
   "metadata": {},
   "source": [
    "```\n",
    "% Connectivity matrices for model with backward modulation\n",
    "%--------------------------------------------------------------------------\n",
    "DCM.a = [1 1 0; 1 1 1; 0 1 1];\n",
    "DCM.b = zeros(3,3,3);  DCM.b(2,1,2) = 1;  DCM.b(2,3,3) = 1;\n",
    "DCM.c = [1 0 0; 0 0 0; 0 0 0];\n",
    "DCM.d = zeros(3,3,0);\n",
    "\n",
    "save(fullfile(data_path,'GLM','DCM_mod_bwd.mat'),'DCM');\n",
    "```"
   ]
  },
  {
   "cell_type": "code",
   "execution_count": 10,
   "id": "0920a2a0-a4a4-492a-8b8e-2101c844c347",
   "metadata": {},
   "outputs": [],
   "source": [
    "DCM.a = np.array([[1, 1, 0], [1, 1, 1], [0, 1, 1]])\n",
    "DCM.b = np.zeros((3, 3, 3))\n",
    "DCM.b[1, 0, 1] = 1\n",
    "DCM.b[1, 2, 2] = 1\n",
    "DCM.c = np.array([[1, 0, 0], [0, 0, 0], [0, 0, 0]])\n",
    "DCM.d = np.zeros((3, 3, 0))\n",
    "\n",
    "DCMbwd = spm_dcm_estimate(DCM)"
   ]
  },
  {
   "cell_type": "markdown",
   "id": "0dbd8d11-c2fd-4538-8717-ab1c76155729",
   "metadata": {},
   "source": [
    "```\n",
    "% Connectivity matrices for model with forward modulation\n",
    "%--------------------------------------------------------------------------\n",
    "DCM.b = zeros(3,3,3);  DCM.b(2,1,2) = 1;  DCM.b(2,1,3) = 1;\n",
    "\n",
    "save(fullfile(data_path,'GLM','DCM_mod_fwd.mat'),'DCM');\n",
    "```"
   ]
  },
  {
   "cell_type": "code",
   "execution_count": 11,
   "id": "e4229e82-4240-4375-8e0d-fca12b045943",
   "metadata": {},
   "outputs": [],
   "source": [
    "DCM.b = np.zeros((3, 3, 3))\n",
    "DCM.b[1, 0, 1] = 1\n",
    "DCM.b[1, 0, 2] = 1\n",
    "\n",
    "DCMfwd = spm_dcm_estimate(DCM)"
   ]
  },
  {
   "cell_type": "markdown",
   "id": "455a53d7-9d04-4b79-9b9c-fce924fa04c1",
   "metadata": {},
   "source": [
    "```\n",
    "% Bayesian Model Comparison\n",
    "% --------------------------------------------------------------------------\n",
    "DCM_bwd = load('DCM_mod_bwd.mat','F');\n",
    "DCM_fwd = load('DCM_mod_fwd.mat','F');\n",
    "fprintf('Model evidence: %f (bwd) vs %f (fwd)\\n',DCMbwd.F,DCMfwd.F);\n",
    "```"
   ]
  },
  {
   "cell_type": "code",
   "execution_count": 12,
   "id": "64184ab7-31a8-44af-a1b3-cccfb0904e96",
   "metadata": {},
   "outputs": [
    {
     "name": "stdout",
     "output_type": "stream",
     "text": [
      "Model evidence: -3441.403050497822 (bwd) vs -3422.1295455880836 (fwd)\n"
     ]
    }
   ],
   "source": [
    "print(f\"Model evidence: {DCMbwd['F']} (bwd) vs {DCMfwd['F']} (fwd)\")"
   ]
  }
 ],
 "metadata": {
  "kernelspec": {
   "display_name": "Python 3 (ipykernel)",
   "language": "python",
   "name": "python3"
  },
  "language_info": {
   "codemirror_mode": {
    "name": "ipython",
    "version": 3
   },
   "file_extension": ".py",
   "mimetype": "text/x-python",
   "name": "python",
   "nbconvert_exporter": "python",
   "pygments_lexer": "ipython3",
   "version": "3.11.0"
  }
 },
 "nbformat": 4,
 "nbformat_minor": 5
}
